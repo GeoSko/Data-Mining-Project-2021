{
  "nbformat": 4,
  "nbformat_minor": 0,
  "metadata": {
    "colab": {
      "name": "DM_1_A_healthcare_data_presentation.ipynb",
      "provenance": [],
      "collapsed_sections": []
    },
    "kernelspec": {
      "name": "python3",
      "display_name": "Python 3"
    },
    "language_info": {
      "name": "python"
    }
  },
  "cells": [
    {
      "cell_type": "code",
      "metadata": {
        "id": "dd1SNFHSwf-s"
      },
      "source": [
        "#Import Libraries\n",
        "import pandas as pd\n",
        "import matplotlib.pyplot as plt\n",
        "import seaborn as sns\n",
        "import platform"
      ],
      "execution_count": 1,
      "outputs": []
    },
    {
      "cell_type": "code",
      "metadata": {
        "colab": {
          "base_uri": "https://localhost:8080/"
        },
        "id": "j8ULv7ZHJ2Pe",
        "outputId": "b29863a1-edba-4810-f6dc-d23bb8e58267"
      },
      "source": [
        "# Versions of libraries\n",
        "import matplotlib\n",
        "print(f'Python:{platform.python_version()}\\nPandas:{pd.__version__}\\nMatplotlib:{matplotlib.__version__}\\nSeaborn:{sns.__version__}')"
      ],
      "execution_count": 2,
      "outputs": [
        {
          "output_type": "stream",
          "text": [
            "Python:3.7.10\n",
            "Pandas:1.1.5\n",
            "Matplotlib:3.2.2\n",
            "Seaborn:0.11.1\n"
          ],
          "name": "stdout"
        }
      ]
    },
    {
      "cell_type": "code",
      "metadata": {
        "id": "vJzp7FS93fMf"
      },
      "source": [
        "df = pd.read_csv('drive/MyDrive/DataMining/healthcare-dataset-stroke-data/healthcare-dataset-stroke-data.csv')"
      ],
      "execution_count": 3,
      "outputs": []
    },
    {
      "cell_type": "code",
      "metadata": {
        "colab": {
          "base_uri": "https://localhost:8080/"
        },
        "id": "FmEGz_oV-Mvy",
        "outputId": "7f9f47dc-51b1-4e2c-9f62-9c0e3f568171"
      },
      "source": [
        "df.shape"
      ],
      "execution_count": 4,
      "outputs": [
        {
          "output_type": "execute_result",
          "data": {
            "text/plain": [
              "(5110, 12)"
            ]
          },
          "metadata": {
            "tags": []
          },
          "execution_count": 4
        }
      ]
    },
    {
      "cell_type": "code",
      "metadata": {
        "colab": {
          "base_uri": "https://localhost:8080/",
          "height": 257
        },
        "id": "uDNKE-nL-S8J",
        "outputId": "6416bcf3-db05-4713-e4dc-0525b7771a35"
      },
      "source": [
        "df.head()"
      ],
      "execution_count": 5,
      "outputs": [
        {
          "output_type": "execute_result",
          "data": {
            "text/html": [
              "<div>\n",
              "<style scoped>\n",
              "    .dataframe tbody tr th:only-of-type {\n",
              "        vertical-align: middle;\n",
              "    }\n",
              "\n",
              "    .dataframe tbody tr th {\n",
              "        vertical-align: top;\n",
              "    }\n",
              "\n",
              "    .dataframe thead th {\n",
              "        text-align: right;\n",
              "    }\n",
              "</style>\n",
              "<table border=\"1\" class=\"dataframe\">\n",
              "  <thead>\n",
              "    <tr style=\"text-align: right;\">\n",
              "      <th></th>\n",
              "      <th>id</th>\n",
              "      <th>gender</th>\n",
              "      <th>age</th>\n",
              "      <th>hypertension</th>\n",
              "      <th>heart_disease</th>\n",
              "      <th>ever_married</th>\n",
              "      <th>work_type</th>\n",
              "      <th>Residence_type</th>\n",
              "      <th>avg_glucose_level</th>\n",
              "      <th>bmi</th>\n",
              "      <th>smoking_status</th>\n",
              "      <th>stroke</th>\n",
              "    </tr>\n",
              "  </thead>\n",
              "  <tbody>\n",
              "    <tr>\n",
              "      <th>0</th>\n",
              "      <td>9046</td>\n",
              "      <td>Male</td>\n",
              "      <td>67.0</td>\n",
              "      <td>0</td>\n",
              "      <td>1</td>\n",
              "      <td>Yes</td>\n",
              "      <td>Private</td>\n",
              "      <td>Urban</td>\n",
              "      <td>228.69</td>\n",
              "      <td>36.6</td>\n",
              "      <td>formerly smoked</td>\n",
              "      <td>1</td>\n",
              "    </tr>\n",
              "    <tr>\n",
              "      <th>1</th>\n",
              "      <td>51676</td>\n",
              "      <td>Female</td>\n",
              "      <td>61.0</td>\n",
              "      <td>0</td>\n",
              "      <td>0</td>\n",
              "      <td>Yes</td>\n",
              "      <td>Self-employed</td>\n",
              "      <td>Rural</td>\n",
              "      <td>202.21</td>\n",
              "      <td>NaN</td>\n",
              "      <td>never smoked</td>\n",
              "      <td>1</td>\n",
              "    </tr>\n",
              "    <tr>\n",
              "      <th>2</th>\n",
              "      <td>31112</td>\n",
              "      <td>Male</td>\n",
              "      <td>80.0</td>\n",
              "      <td>0</td>\n",
              "      <td>1</td>\n",
              "      <td>Yes</td>\n",
              "      <td>Private</td>\n",
              "      <td>Rural</td>\n",
              "      <td>105.92</td>\n",
              "      <td>32.5</td>\n",
              "      <td>never smoked</td>\n",
              "      <td>1</td>\n",
              "    </tr>\n",
              "    <tr>\n",
              "      <th>3</th>\n",
              "      <td>60182</td>\n",
              "      <td>Female</td>\n",
              "      <td>49.0</td>\n",
              "      <td>0</td>\n",
              "      <td>0</td>\n",
              "      <td>Yes</td>\n",
              "      <td>Private</td>\n",
              "      <td>Urban</td>\n",
              "      <td>171.23</td>\n",
              "      <td>34.4</td>\n",
              "      <td>smokes</td>\n",
              "      <td>1</td>\n",
              "    </tr>\n",
              "    <tr>\n",
              "      <th>4</th>\n",
              "      <td>1665</td>\n",
              "      <td>Female</td>\n",
              "      <td>79.0</td>\n",
              "      <td>1</td>\n",
              "      <td>0</td>\n",
              "      <td>Yes</td>\n",
              "      <td>Self-employed</td>\n",
              "      <td>Rural</td>\n",
              "      <td>174.12</td>\n",
              "      <td>24.0</td>\n",
              "      <td>never smoked</td>\n",
              "      <td>1</td>\n",
              "    </tr>\n",
              "  </tbody>\n",
              "</table>\n",
              "</div>"
            ],
            "text/plain": [
              "      id  gender   age  ...   bmi   smoking_status stroke\n",
              "0   9046    Male  67.0  ...  36.6  formerly smoked      1\n",
              "1  51676  Female  61.0  ...   NaN     never smoked      1\n",
              "2  31112    Male  80.0  ...  32.5     never smoked      1\n",
              "3  60182  Female  49.0  ...  34.4           smokes      1\n",
              "4   1665  Female  79.0  ...  24.0     never smoked      1\n",
              "\n",
              "[5 rows x 12 columns]"
            ]
          },
          "metadata": {
            "tags": []
          },
          "execution_count": 5
        }
      ]
    },
    {
      "cell_type": "code",
      "metadata": {
        "id": "8dnelVxkO-SP",
        "colab": {
          "base_uri": "https://localhost:8080/"
        },
        "outputId": "9e65bcab-3004-40ee-cd5c-ab96ac5dbc0c"
      },
      "source": [
        "df.dtypes"
      ],
      "execution_count": 6,
      "outputs": [
        {
          "output_type": "execute_result",
          "data": {
            "text/plain": [
              "id                     int64\n",
              "gender                object\n",
              "age                  float64\n",
              "hypertension           int64\n",
              "heart_disease          int64\n",
              "ever_married          object\n",
              "work_type             object\n",
              "Residence_type        object\n",
              "avg_glucose_level    float64\n",
              "bmi                  float64\n",
              "smoking_status        object\n",
              "stroke                 int64\n",
              "dtype: object"
            ]
          },
          "metadata": {
            "tags": []
          },
          "execution_count": 6
        }
      ]
    },
    {
      "cell_type": "code",
      "metadata": {
        "colab": {
          "base_uri": "https://localhost:8080/",
          "height": 295
        },
        "id": "X58bBhMPoVff",
        "outputId": "ae9fcca2-a36b-4a31-c1f8-8116c87ca8a3"
      },
      "source": [
        "df.describe()"
      ],
      "execution_count": 7,
      "outputs": [
        {
          "output_type": "execute_result",
          "data": {
            "text/html": [
              "<div>\n",
              "<style scoped>\n",
              "    .dataframe tbody tr th:only-of-type {\n",
              "        vertical-align: middle;\n",
              "    }\n",
              "\n",
              "    .dataframe tbody tr th {\n",
              "        vertical-align: top;\n",
              "    }\n",
              "\n",
              "    .dataframe thead th {\n",
              "        text-align: right;\n",
              "    }\n",
              "</style>\n",
              "<table border=\"1\" class=\"dataframe\">\n",
              "  <thead>\n",
              "    <tr style=\"text-align: right;\">\n",
              "      <th></th>\n",
              "      <th>id</th>\n",
              "      <th>age</th>\n",
              "      <th>hypertension</th>\n",
              "      <th>heart_disease</th>\n",
              "      <th>avg_glucose_level</th>\n",
              "      <th>bmi</th>\n",
              "      <th>stroke</th>\n",
              "    </tr>\n",
              "  </thead>\n",
              "  <tbody>\n",
              "    <tr>\n",
              "      <th>count</th>\n",
              "      <td>5110.000000</td>\n",
              "      <td>5110.000000</td>\n",
              "      <td>5110.000000</td>\n",
              "      <td>5110.000000</td>\n",
              "      <td>5110.000000</td>\n",
              "      <td>4909.000000</td>\n",
              "      <td>5110.000000</td>\n",
              "    </tr>\n",
              "    <tr>\n",
              "      <th>mean</th>\n",
              "      <td>36517.829354</td>\n",
              "      <td>43.226614</td>\n",
              "      <td>0.097456</td>\n",
              "      <td>0.054012</td>\n",
              "      <td>106.147677</td>\n",
              "      <td>28.893237</td>\n",
              "      <td>0.048728</td>\n",
              "    </tr>\n",
              "    <tr>\n",
              "      <th>std</th>\n",
              "      <td>21161.721625</td>\n",
              "      <td>22.612647</td>\n",
              "      <td>0.296607</td>\n",
              "      <td>0.226063</td>\n",
              "      <td>45.283560</td>\n",
              "      <td>7.854067</td>\n",
              "      <td>0.215320</td>\n",
              "    </tr>\n",
              "    <tr>\n",
              "      <th>min</th>\n",
              "      <td>67.000000</td>\n",
              "      <td>0.080000</td>\n",
              "      <td>0.000000</td>\n",
              "      <td>0.000000</td>\n",
              "      <td>55.120000</td>\n",
              "      <td>10.300000</td>\n",
              "      <td>0.000000</td>\n",
              "    </tr>\n",
              "    <tr>\n",
              "      <th>25%</th>\n",
              "      <td>17741.250000</td>\n",
              "      <td>25.000000</td>\n",
              "      <td>0.000000</td>\n",
              "      <td>0.000000</td>\n",
              "      <td>77.245000</td>\n",
              "      <td>23.500000</td>\n",
              "      <td>0.000000</td>\n",
              "    </tr>\n",
              "    <tr>\n",
              "      <th>50%</th>\n",
              "      <td>36932.000000</td>\n",
              "      <td>45.000000</td>\n",
              "      <td>0.000000</td>\n",
              "      <td>0.000000</td>\n",
              "      <td>91.885000</td>\n",
              "      <td>28.100000</td>\n",
              "      <td>0.000000</td>\n",
              "    </tr>\n",
              "    <tr>\n",
              "      <th>75%</th>\n",
              "      <td>54682.000000</td>\n",
              "      <td>61.000000</td>\n",
              "      <td>0.000000</td>\n",
              "      <td>0.000000</td>\n",
              "      <td>114.090000</td>\n",
              "      <td>33.100000</td>\n",
              "      <td>0.000000</td>\n",
              "    </tr>\n",
              "    <tr>\n",
              "      <th>max</th>\n",
              "      <td>72940.000000</td>\n",
              "      <td>82.000000</td>\n",
              "      <td>1.000000</td>\n",
              "      <td>1.000000</td>\n",
              "      <td>271.740000</td>\n",
              "      <td>97.600000</td>\n",
              "      <td>1.000000</td>\n",
              "    </tr>\n",
              "  </tbody>\n",
              "</table>\n",
              "</div>"
            ],
            "text/plain": [
              "                 id          age  ...          bmi       stroke\n",
              "count   5110.000000  5110.000000  ...  4909.000000  5110.000000\n",
              "mean   36517.829354    43.226614  ...    28.893237     0.048728\n",
              "std    21161.721625    22.612647  ...     7.854067     0.215320\n",
              "min       67.000000     0.080000  ...    10.300000     0.000000\n",
              "25%    17741.250000    25.000000  ...    23.500000     0.000000\n",
              "50%    36932.000000    45.000000  ...    28.100000     0.000000\n",
              "75%    54682.000000    61.000000  ...    33.100000     0.000000\n",
              "max    72940.000000    82.000000  ...    97.600000     1.000000\n",
              "\n",
              "[8 rows x 7 columns]"
            ]
          },
          "metadata": {
            "tags": []
          },
          "execution_count": 7
        }
      ]
    },
    {
      "cell_type": "code",
      "metadata": {
        "colab": {
          "base_uri": "https://localhost:8080/"
        },
        "id": "7GH9rLTY4OOF",
        "outputId": "616fe45e-55f3-489c-81ae-ef0017907474"
      },
      "source": [
        "# gender\n",
        "df['gender'].value_counts()"
      ],
      "execution_count": 8,
      "outputs": [
        {
          "output_type": "execute_result",
          "data": {
            "text/plain": [
              "Female    2994\n",
              "Male      2115\n",
              "Other        1\n",
              "Name: gender, dtype: int64"
            ]
          },
          "metadata": {
            "tags": []
          },
          "execution_count": 8
        }
      ]
    },
    {
      "cell_type": "code",
      "metadata": {
        "colab": {
          "base_uri": "https://localhost:8080/",
          "height": 296
        },
        "id": "M07-_T8s_gHi",
        "outputId": "e15d4a1a-83db-4589-91ed-9916e537c09b"
      },
      "source": [
        "sns.countplot(x = 'gender', data= df) "
      ],
      "execution_count": 9,
      "outputs": [
        {
          "output_type": "execute_result",
          "data": {
            "text/plain": [
              "<matplotlib.axes._subplots.AxesSubplot at 0x7f2aa5ebd2d0>"
            ]
          },
          "metadata": {
            "tags": []
          },
          "execution_count": 9
        },
        {
          "output_type": "display_data",
          "data": {
            "image/png": "[encoded data removed]",
            "text/plain": [
              "<Figure size 432x288 with 1 Axes>"
            ]
          },
          "metadata": {
            "tags": [],
            "needs_background": "light"
          }
        }
      ]
    },
    {
      "cell_type": "code",
      "metadata": {
        "colab": {
          "base_uri": "https://localhost:8080/"
        },
        "id": "-OjIqY4Y_1qa",
        "outputId": "226777e4-bb99-46f4-b22c-568a14b026fc"
      },
      "source": [
        "# hypertension\n",
        "df['hypertension'].value_counts()"
      ],
      "execution_count": 10,
      "outputs": [
        {
          "output_type": "execute_result",
          "data": {
            "text/plain": [
              "0    4612\n",
              "1     498\n",
              "Name: hypertension, dtype: int64"
            ]
          },
          "metadata": {
            "tags": []
          },
          "execution_count": 10
        }
      ]
    },
    {
      "cell_type": "code",
      "metadata": {
        "colab": {
          "base_uri": "https://localhost:8080/",
          "height": 296
        },
        "id": "k1mIatm2ASPo",
        "outputId": "94d75115-86f9-477c-a3ca-5a08cf18b8f2"
      },
      "source": [
        "sns.countplot(x = 'hypertension', data= df) "
      ],
      "execution_count": 11,
      "outputs": [
        {
          "output_type": "execute_result",
          "data": {
            "text/plain": [
              "<matplotlib.axes._subplots.AxesSubplot at 0x7f2aa5def910>"
            ]
          },
          "metadata": {
            "tags": []
          },
          "execution_count": 11
        },
        {
          "output_type": "display_data",
          "data": {
            "image/png": "[encoded data removed]",
            "text/plain": [
              "<Figure size 432x288 with 1 Axes>"
            ]
          },
          "metadata": {
            "tags": [],
            "needs_background": "light"
          }
        }
      ]
    },
    {
      "cell_type": "code",
      "metadata": {
        "colab": {
          "base_uri": "https://localhost:8080/"
        },
        "id": "2wg1TjabAVXI",
        "outputId": "c842f36c-33cc-49b3-9fe0-991dbfce95fd"
      },
      "source": [
        "# heart_disease\n",
        "df['heart_disease'].value_counts()"
      ],
      "execution_count": 12,
      "outputs": [
        {
          "output_type": "execute_result",
          "data": {
            "text/plain": [
              "0    4834\n",
              "1     276\n",
              "Name: heart_disease, dtype: int64"
            ]
          },
          "metadata": {
            "tags": []
          },
          "execution_count": 12
        }
      ]
    },
    {
      "cell_type": "code",
      "metadata": {
        "colab": {
          "base_uri": "https://localhost:8080/",
          "height": 298
        },
        "id": "-EW9BgK9AZ1R",
        "outputId": "659f3210-33be-41ac-df14-8724cd4568eb"
      },
      "source": [
        "sns.countplot(x = 'heart_disease', data= df) "
      ],
      "execution_count": 13,
      "outputs": [
        {
          "output_type": "execute_result",
          "data": {
            "text/plain": [
              "<matplotlib.axes._subplots.AxesSubplot at 0x7f2aa59073d0>"
            ]
          },
          "metadata": {
            "tags": []
          },
          "execution_count": 13
        },
        {
          "output_type": "display_data",
          "data": {
            "image/png": "[encoded data removed]",
            "text/plain": [
              "<Figure size 432x288 with 1 Axes>"
            ]
          },
          "metadata": {
            "tags": [],
            "needs_background": "light"
          }
        }
      ]
    },
    {
      "cell_type": "code",
      "metadata": {
        "colab": {
          "base_uri": "https://localhost:8080/"
        },
        "id": "6Ya2Iq-tA0m0",
        "outputId": "0793df19-9dc7-4dc7-fbab-58bcbe56c569"
      },
      "source": [
        "# ever_married\n",
        "df['ever_married'].value_counts()"
      ],
      "execution_count": 14,
      "outputs": [
        {
          "output_type": "execute_result",
          "data": {
            "text/plain": [
              "Yes    3353\n",
              "No     1757\n",
              "Name: ever_married, dtype: int64"
            ]
          },
          "metadata": {
            "tags": []
          },
          "execution_count": 14
        }
      ]
    },
    {
      "cell_type": "code",
      "metadata": {
        "colab": {
          "base_uri": "https://localhost:8080/",
          "height": 300
        },
        "id": "qPddoJO0Ao3C",
        "outputId": "18745aec-423d-425d-9bdd-78f86a07329c"
      },
      "source": [
        "sns.countplot(x = 'ever_married', data= df) "
      ],
      "execution_count": 15,
      "outputs": [
        {
          "output_type": "execute_result",
          "data": {
            "text/plain": [
              "<matplotlib.axes._subplots.AxesSubplot at 0x7f2aa58ef190>"
            ]
          },
          "metadata": {
            "tags": []
          },
          "execution_count": 15
        },
        {
          "output_type": "display_data",
          "data": {
            "image/png": "[encoded data removed]",
            "text/plain": [
              "<Figure size 432x288 with 1 Axes>"
            ]
          },
          "metadata": {
            "tags": [],
            "needs_background": "light"
          }
        }
      ]
    },
    {
      "cell_type": "code",
      "metadata": {
        "colab": {
          "base_uri": "https://localhost:8080/"
        },
        "id": "A2cgT0S3Aw-5",
        "outputId": "e9a6a25e-3894-4384-d697-3fb2efac8408"
      },
      "source": [
        "# work_type\n",
        "df['work_type'].value_counts()"
      ],
      "execution_count": 16,
      "outputs": [
        {
          "output_type": "execute_result",
          "data": {
            "text/plain": [
              "Private          2925\n",
              "Self-employed     819\n",
              "children          687\n",
              "Govt_job          657\n",
              "Never_worked       22\n",
              "Name: work_type, dtype: int64"
            ]
          },
          "metadata": {
            "tags": []
          },
          "execution_count": 16
        }
      ]
    },
    {
      "cell_type": "code",
      "metadata": {
        "colab": {
          "base_uri": "https://localhost:8080/",
          "height": 298
        },
        "id": "WSdVY7wpBDap",
        "outputId": "3027e615-8f20-4e2e-b403-e37e12a9fec3"
      },
      "source": [
        "sns.countplot(x = 'work_type', data= df) "
      ],
      "execution_count": 17,
      "outputs": [
        {
          "output_type": "execute_result",
          "data": {
            "text/plain": [
              "<matplotlib.axes._subplots.AxesSubplot at 0x7f2aa58528d0>"
            ]
          },
          "metadata": {
            "tags": []
          },
          "execution_count": 17
        },
        {
          "output_type": "display_data",
          "data": {
            "image/png": "[encoded data removed]",
            "text/plain": [
              "<Figure size 432x288 with 1 Axes>"
            ]
          },
          "metadata": {
            "tags": [],
            "needs_background": "light"
          }
        }
      ]
    },
    {
      "cell_type": "code",
      "metadata": {
        "colab": {
          "base_uri": "https://localhost:8080/"
        },
        "id": "CKkxsV5eBG0x",
        "outputId": "88bb4fd3-ef0f-40e6-a685-5bafdfcef185"
      },
      "source": [
        "#Residence_type\n",
        "df['Residence_type'].value_counts()"
      ],
      "execution_count": 18,
      "outputs": [
        {
          "output_type": "execute_result",
          "data": {
            "text/plain": [
              "Urban    2596\n",
              "Rural    2514\n",
              "Name: Residence_type, dtype: int64"
            ]
          },
          "metadata": {
            "tags": []
          },
          "execution_count": 18
        }
      ]
    },
    {
      "cell_type": "code",
      "metadata": {
        "colab": {
          "base_uri": "https://localhost:8080/",
          "height": 297
        },
        "id": "iIGj-clGBShJ",
        "outputId": "5a003d1d-a958-4251-91e8-2d555e468c4b"
      },
      "source": [
        "sns.countplot(x = 'Residence_type', data= df) "
      ],
      "execution_count": 19,
      "outputs": [
        {
          "output_type": "execute_result",
          "data": {
            "text/plain": [
              "<matplotlib.axes._subplots.AxesSubplot at 0x7f2aa6653790>"
            ]
          },
          "metadata": {
            "tags": []
          },
          "execution_count": 19
        },
        {
          "output_type": "display_data",
          "data": {
            "image/png": "[encoded data removed]",
            "text/plain": [
              "<Figure size 432x288 with 1 Axes>"
            ]
          },
          "metadata": {
            "tags": [],
            "needs_background": "light"
          }
        }
      ]
    },
    {
      "cell_type": "code",
      "metadata": {
        "colab": {
          "base_uri": "https://localhost:8080/"
        },
        "id": "KDzI0VnnBfEQ",
        "outputId": "f16e186a-594a-48ed-b26b-8d50823dd503"
      },
      "source": [
        "#smoking_status\n",
        "df['smoking_status'].value_counts()"
      ],
      "execution_count": 20,
      "outputs": [
        {
          "output_type": "execute_result",
          "data": {
            "text/plain": [
              "never smoked       1892\n",
              "Unknown            1544\n",
              "formerly smoked     885\n",
              "smokes              789\n",
              "Name: smoking_status, dtype: int64"
            ]
          },
          "metadata": {
            "tags": []
          },
          "execution_count": 20
        }
      ]
    },
    {
      "cell_type": "code",
      "metadata": {
        "colab": {
          "base_uri": "https://localhost:8080/",
          "height": 297
        },
        "id": "09Kdtp9GBmL5",
        "outputId": "07590745-22f5-42e1-8eab-50563eada639"
      },
      "source": [
        "sns.countplot(x = 'smoking_status', data= df) "
      ],
      "execution_count": 21,
      "outputs": [
        {
          "output_type": "execute_result",
          "data": {
            "text/plain": [
              "<matplotlib.axes._subplots.AxesSubplot at 0x7f2aa57d1590>"
            ]
          },
          "metadata": {
            "tags": []
          },
          "execution_count": 21
        },
        {
          "output_type": "display_data",
          "data": {
            "image/png": "[encoded data removed]",
            "text/plain": [
              "<Figure size 432x288 with 1 Axes>"
            ]
          },
          "metadata": {
            "tags": [],
            "needs_background": "light"
          }
        }
      ]
    },
    {
      "cell_type": "code",
      "metadata": {
        "colab": {
          "base_uri": "https://localhost:8080/"
        },
        "id": "vaeka5jtBofA",
        "outputId": "bd78e235-58bd-496c-cb59-f37eb6bdc9d1"
      },
      "source": [
        "# stroke\n",
        "df['stroke'].value_counts()"
      ],
      "execution_count": 22,
      "outputs": [
        {
          "output_type": "execute_result",
          "data": {
            "text/plain": [
              "0    4861\n",
              "1     249\n",
              "Name: stroke, dtype: int64"
            ]
          },
          "metadata": {
            "tags": []
          },
          "execution_count": 22
        }
      ]
    },
    {
      "cell_type": "code",
      "metadata": {
        "colab": {
          "base_uri": "https://localhost:8080/",
          "height": 296
        },
        "id": "nWlx8T9cBq54",
        "outputId": "882f4046-6555-4e11-a580-e9ae92513553"
      },
      "source": [
        "sns.countplot(x = 'stroke', data= df) "
      ],
      "execution_count": 23,
      "outputs": [
        {
          "output_type": "execute_result",
          "data": {
            "text/plain": [
              "<matplotlib.axes._subplots.AxesSubplot at 0x7f2aa576eed0>"
            ]
          },
          "metadata": {
            "tags": []
          },
          "execution_count": 23
        },
        {
          "output_type": "display_data",
          "data": {
            "image/png": "[encoded data removed]",
            "text/plain": [
              "<Figure size 432x288 with 1 Axes>"
            ]
          },
          "metadata": {
            "tags": [],
            "needs_background": "light"
          }
        }
      ]
    },
    {
      "cell_type": "code",
      "metadata": {
        "colab": {
          "base_uri": "https://localhost:8080/",
          "height": 386
        },
        "id": "12ixSXPzCLM1",
        "outputId": "438ec31c-afdc-47d2-a7ce-d5860b05395c"
      },
      "source": [
        "# age\n",
        "sns.displot(df['age'], kde=True)"
      ],
      "execution_count": 24,
      "outputs": [
        {
          "output_type": "execute_result",
          "data": {
            "text/plain": [
              "<seaborn.axisgrid.FacetGrid at 0x7f2aa56ce610>"
            ]
          },
          "metadata": {
            "tags": []
          },
          "execution_count": 24
        },
        {
          "output_type": "display_data",
          "data": {
            "image/png": "[encoded data removed]",
            "text/plain": [
              "<Figure size 360x360 with 1 Axes>"
            ]
          },
          "metadata": {
            "tags": [],
            "needs_background": "light"
          }
        }
      ]
    },
    {
      "cell_type": "code",
      "metadata": {
        "colab": {
          "base_uri": "https://localhost:8080/"
        },
        "id": "dADoXxbYCn-p",
        "outputId": "aa8141e9-8a90-4fa6-8534-e7517d77fa7f"
      },
      "source": [
        "age_min = df['age'].min()\n",
        "age_max = df['age'].max()\n",
        "age_mean = df['age'].mean()\n",
        "age_median = df['age'].median()\n",
        "age_std = df['age'].std()\n",
        "age_missing_values = df['age'].isnull().sum()\n",
        "print(\"\"\"Age min: {0}\\nAge max: {1}\\nAge mean: {2}\\nAge median:{3}\\nAge std: {4}\\nAge missing values: {5}\"\"\".format(age_min, age_max, age_mean, age_median, age_std,age_missing_values))"
      ],
      "execution_count": 25,
      "outputs": [
        {
          "output_type": "stream",
          "text": [
            "Age min: 0.08\n",
            "Age max: 82.0\n",
            "Age mean: 43.226614481409015\n",
            "Age median:45.0\n",
            "Age std: 22.61264672311352\n",
            "Age missing values: 0\n"
          ],
          "name": "stdout"
        }
      ]
    },
    {
      "cell_type": "code",
      "metadata": {
        "colab": {
          "base_uri": "https://localhost:8080/",
          "height": 386
        },
        "id": "zocil3CgEgX6",
        "outputId": "bd3b3732-3fc7-441c-ed99-d66ec3630598"
      },
      "source": [
        "# avg_glucose_level\n",
        "sns.displot(df['avg_glucose_level'], kde=True)"
      ],
      "execution_count": 26,
      "outputs": [
        {
          "output_type": "execute_result",
          "data": {
            "text/plain": [
              "<seaborn.axisgrid.FacetGrid at 0x7f2aa57c8ad0>"
            ]
          },
          "metadata": {
            "tags": []
          },
          "execution_count": 26
        },
        {
          "output_type": "display_data",
          "data": {
            "image/png": "[encoded data removed]",
            "text/plain": [
              "<Figure size 360x360 with 1 Axes>"
            ]
          },
          "metadata": {
            "tags": [],
            "needs_background": "light"
          }
        }
      ]
    },
    {
      "cell_type": "code",
      "metadata": {
        "colab": {
          "base_uri": "https://localhost:8080/"
        },
        "id": "5Gza4xESFapZ",
        "outputId": "2c774be2-6059-4ced-a599-0b0856336a0e"
      },
      "source": [
        "glucose_avg_min = df['avg_glucose_level'].min()\n",
        "glucose_avg_max = df['avg_glucose_level'].max()\n",
        "glucose_avg_mean = df['avg_glucose_level'].mean()\n",
        "glucose_avg_median = df['avg_glucose_level'].median()\n",
        "glucose_avg_std = df['avg_glucose_level'].std()\n",
        "glucose_avg_missing_values = df['avg_glucose_level'].isnull().sum()\n",
        "print(\"\"\"Average Glucoge Level min: {0}\\nAverage Glucoge Level max: {1}\\nAverage Glucoge Level mean: {2}\\nAverage Glucoge Level median: {3}\n",
        "Average Glucoge Level std: {4}\\nAverage Glucoge Level missing values: {5}\"\"\".format(glucose_avg_min, glucose_avg_max, glucose_avg_mean, glucose_avg_median, glucose_avg_std, glucose_avg_missing_values))"
      ],
      "execution_count": 27,
      "outputs": [
        {
          "output_type": "stream",
          "text": [
            "Average Glucoge Level min: 55.12\n",
            "Average Glucoge Level max: 271.74\n",
            "Average Glucoge Level mean: 106.14767710371804\n",
            "Average Glucoge Level median: 91.88499999999999\n",
            "Average Glucoge Level std: 45.28356015058203\n",
            "Average Glucoge Level missing values: 0\n"
          ],
          "name": "stdout"
        }
      ]
    },
    {
      "cell_type": "code",
      "metadata": {
        "colab": {
          "base_uri": "https://localhost:8080/",
          "height": 386
        },
        "id": "EWX2k-a9GErB",
        "outputId": "b27d37d7-6a62-40fd-fbdc-9db29a0115fc"
      },
      "source": [
        "# bmi\n",
        "sns.displot(df['bmi'], kde=True)"
      ],
      "execution_count": 28,
      "outputs": [
        {
          "output_type": "execute_result",
          "data": {
            "text/plain": [
              "<seaborn.axisgrid.FacetGrid at 0x7f2a99a35790>"
            ]
          },
          "metadata": {
            "tags": []
          },
          "execution_count": 28
        },
        {
          "output_type": "display_data",
          "data": {
            "image/png": "[encoded data removed]",
            "text/plain": [
              "<Figure size 360x360 with 1 Axes>"
            ]
          },
          "metadata": {
            "tags": [],
            "needs_background": "light"
          }
        }
      ]
    },
    {
      "cell_type": "code",
      "metadata": {
        "colab": {
          "base_uri": "https://localhost:8080/"
        },
        "id": "c6jznTIMGOhZ",
        "outputId": "6131e0ac-4764-46cc-fedb-130e9cf7bf16"
      },
      "source": [
        "bmi_min = df['bmi'].min()\n",
        "bmi_max = df['bmi'].max()\n",
        "bmi_mean = df['bmi'].mean()\n",
        "bmi_median = df['bmi'].median()\n",
        "bmi_std = df['bmi'].std()\n",
        "bmi_missing_values = df['bmi'].isnull().sum()\n",
        "print(\"\"\"Average BMI Level min: {0}\\nAverage BMI Level max: {1}\\nAverage BMI Level mean: {2}\\nAverage BMI Level median: {3}\n",
        "Average BMI Level std: {4}\\nAverage BMI missing values: {5}\"\"\".format(bmi_min, bmi_max, bmi_mean, bmi_median, bmi_std, bmi_missing_values))"
      ],
      "execution_count": 29,
      "outputs": [
        {
          "output_type": "stream",
          "text": [
            "Average BMI Level min: 10.3\n",
            "Average BMI Level max: 97.6\n",
            "Average BMI Level mean: 28.893236911794673\n",
            "Average BMI Level median: 28.1\n",
            "Average BMI Level std: 7.854066729680158\n",
            "Average BMI missing values: 201\n"
          ],
          "name": "stdout"
        }
      ]
    },
    {
      "cell_type": "code",
      "metadata": {
        "colab": {
          "base_uri": "https://localhost:8080/"
        },
        "id": "l9bbyt2TEHAY",
        "outputId": "ead8963e-b764-4f1c-f43b-9930e971abfb"
      },
      "source": [
        "df['bmi'].isna().sum()"
      ],
      "execution_count": 30,
      "outputs": [
        {
          "output_type": "execute_result",
          "data": {
            "text/plain": [
              "201"
            ]
          },
          "metadata": {
            "tags": []
          },
          "execution_count": 30
        }
      ]
    },
    {
      "cell_type": "code",
      "metadata": {
        "colab": {
          "base_uri": "https://localhost:8080/"
        },
        "id": "mIaqnRe3JW3x",
        "outputId": "7373dce7-ceef-4729-ebc3-fb33a974c91a"
      },
      "source": [
        "# id\n",
        "id_min = df['id'].min()\n",
        "id_max = df['id'].max()\n",
        "id_unique = df[\"id\"].is_unique\n",
        "print(\"\"\"Id min: {0}\\nId max: {1}\\nId unique: {2}\"\"\".format(id_min, id_max, id_unique))"
      ],
      "execution_count": 31,
      "outputs": [
        {
          "output_type": "stream",
          "text": [
            "Id min: 67\n",
            "Id max: 72940\n",
            "Id unique: True\n"
          ],
          "name": "stdout"
        }
      ]
    },
    {
      "cell_type": "code",
      "metadata": {
        "colab": {
          "base_uri": "https://localhost:8080/"
        },
        "id": "6O8Q_4_QD8O0",
        "outputId": "7e2fce83-b76b-4d86-fd00-753d3a47bfb4"
      },
      "source": [
        "df.isna().sum()"
      ],
      "execution_count": 32,
      "outputs": [
        {
          "output_type": "execute_result",
          "data": {
            "text/plain": [
              "id                     0\n",
              "gender                 0\n",
              "age                    0\n",
              "hypertension           0\n",
              "heart_disease          0\n",
              "ever_married           0\n",
              "work_type              0\n",
              "Residence_type         0\n",
              "avg_glucose_level      0\n",
              "bmi                  201\n",
              "smoking_status         0\n",
              "stroke                 0\n",
              "dtype: int64"
            ]
          },
          "metadata": {
            "tags": []
          },
          "execution_count": 32
        }
      ]
    },
    {
      "cell_type": "code",
      "metadata": {
        "colab": {
          "base_uri": "https://localhost:8080/",
          "height": 264
        },
        "id": "cr_gy31pFZ7M",
        "outputId": "6329b04d-964d-41cb-c952-5813c7f1be88"
      },
      "source": [
        "corr_matrix = df.corr()\n",
        "corr_matrix"
      ],
      "execution_count": 33,
      "outputs": [
        {
          "output_type": "execute_result",
          "data": {
            "text/html": [
              "<div>\n",
              "<style scoped>\n",
              "    .dataframe tbody tr th:only-of-type {\n",
              "        vertical-align: middle;\n",
              "    }\n",
              "\n",
              "    .dataframe tbody tr th {\n",
              "        vertical-align: top;\n",
              "    }\n",
              "\n",
              "    .dataframe thead th {\n",
              "        text-align: right;\n",
              "    }\n",
              "</style>\n",
              "<table border=\"1\" class=\"dataframe\">\n",
              "  <thead>\n",
              "    <tr style=\"text-align: right;\">\n",
              "      <th></th>\n",
              "      <th>id</th>\n",
              "      <th>age</th>\n",
              "      <th>hypertension</th>\n",
              "      <th>heart_disease</th>\n",
              "      <th>avg_glucose_level</th>\n",
              "      <th>bmi</th>\n",
              "      <th>stroke</th>\n",
              "    </tr>\n",
              "  </thead>\n",
              "  <tbody>\n",
              "    <tr>\n",
              "      <th>id</th>\n",
              "      <td>1.000000</td>\n",
              "      <td>0.003538</td>\n",
              "      <td>0.003550</td>\n",
              "      <td>-0.001296</td>\n",
              "      <td>0.001092</td>\n",
              "      <td>0.003084</td>\n",
              "      <td>0.006388</td>\n",
              "    </tr>\n",
              "    <tr>\n",
              "      <th>age</th>\n",
              "      <td>0.003538</td>\n",
              "      <td>1.000000</td>\n",
              "      <td>0.276398</td>\n",
              "      <td>0.263796</td>\n",
              "      <td>0.238171</td>\n",
              "      <td>0.333398</td>\n",
              "      <td>0.245257</td>\n",
              "    </tr>\n",
              "    <tr>\n",
              "      <th>hypertension</th>\n",
              "      <td>0.003550</td>\n",
              "      <td>0.276398</td>\n",
              "      <td>1.000000</td>\n",
              "      <td>0.108306</td>\n",
              "      <td>0.174474</td>\n",
              "      <td>0.167811</td>\n",
              "      <td>0.127904</td>\n",
              "    </tr>\n",
              "    <tr>\n",
              "      <th>heart_disease</th>\n",
              "      <td>-0.001296</td>\n",
              "      <td>0.263796</td>\n",
              "      <td>0.108306</td>\n",
              "      <td>1.000000</td>\n",
              "      <td>0.161857</td>\n",
              "      <td>0.041357</td>\n",
              "      <td>0.134914</td>\n",
              "    </tr>\n",
              "    <tr>\n",
              "      <th>avg_glucose_level</th>\n",
              "      <td>0.001092</td>\n",
              "      <td>0.238171</td>\n",
              "      <td>0.174474</td>\n",
              "      <td>0.161857</td>\n",
              "      <td>1.000000</td>\n",
              "      <td>0.175502</td>\n",
              "      <td>0.131945</td>\n",
              "    </tr>\n",
              "    <tr>\n",
              "      <th>bmi</th>\n",
              "      <td>0.003084</td>\n",
              "      <td>0.333398</td>\n",
              "      <td>0.167811</td>\n",
              "      <td>0.041357</td>\n",
              "      <td>0.175502</td>\n",
              "      <td>1.000000</td>\n",
              "      <td>0.042374</td>\n",
              "    </tr>\n",
              "    <tr>\n",
              "      <th>stroke</th>\n",
              "      <td>0.006388</td>\n",
              "      <td>0.245257</td>\n",
              "      <td>0.127904</td>\n",
              "      <td>0.134914</td>\n",
              "      <td>0.131945</td>\n",
              "      <td>0.042374</td>\n",
              "      <td>1.000000</td>\n",
              "    </tr>\n",
              "  </tbody>\n",
              "</table>\n",
              "</div>"
            ],
            "text/plain": [
              "                         id       age  ...       bmi    stroke\n",
              "id                 1.000000  0.003538  ...  0.003084  0.006388\n",
              "age                0.003538  1.000000  ...  0.333398  0.245257\n",
              "hypertension       0.003550  0.276398  ...  0.167811  0.127904\n",
              "heart_disease     -0.001296  0.263796  ...  0.041357  0.134914\n",
              "avg_glucose_level  0.001092  0.238171  ...  0.175502  0.131945\n",
              "bmi                0.003084  0.333398  ...  1.000000  0.042374\n",
              "stroke             0.006388  0.245257  ...  0.042374  1.000000\n",
              "\n",
              "[7 rows x 7 columns]"
            ]
          },
          "metadata": {
            "tags": []
          },
          "execution_count": 33
        }
      ]
    },
    {
      "cell_type": "code",
      "metadata": {
        "colab": {
          "base_uri": "https://localhost:8080/",
          "height": 286
        },
        "id": "t2IwD-5tE6t9",
        "outputId": "f644ebe3-e9ab-4e9b-c2b8-10714351ad1c"
      },
      "source": [
        "sns.heatmap(corr_matrix[['stroke']], annot=True)"
      ],
      "execution_count": 34,
      "outputs": [
        {
          "output_type": "execute_result",
          "data": {
            "text/plain": [
              "<matplotlib.axes._subplots.AxesSubplot at 0x7f2a998b0f10>"
            ]
          },
          "metadata": {
            "tags": []
          },
          "execution_count": 34
        },
        {
          "output_type": "display_data",
          "data": {
            "image/png": "[encoded data removed]",
            "text/plain": [
              "<Figure size 432x288 with 2 Axes>"
            ]
          },
          "metadata": {
            "tags": [],
            "needs_background": "light"
          }
        }
      ]
    },
    {
      "cell_type": "code",
      "metadata": {
        "colab": {
          "base_uri": "https://localhost:8080/",
          "height": 454
        },
        "id": "mtB4qRpRMm39",
        "outputId": "c7b1e11a-8693-4b8e-fc41-bc6920a34a9c"
      },
      "source": [
        "df_dummies = pd.get_dummies(data=df.drop(labels=\"id\", axis=1), drop_first=True)\n",
        "df_dummies"
      ],
      "execution_count": 35,
      "outputs": [
        {
          "output_type": "execute_result",
          "data": {
            "text/html": [
              "<div>\n",
              "<style scoped>\n",
              "    .dataframe tbody tr th:only-of-type {\n",
              "        vertical-align: middle;\n",
              "    }\n",
              "\n",
              "    .dataframe tbody tr th {\n",
              "        vertical-align: top;\n",
              "    }\n",
              "\n",
              "    .dataframe thead th {\n",
              "        text-align: right;\n",
              "    }\n",
              "</style>\n",
              "<table border=\"1\" class=\"dataframe\">\n",
              "  <thead>\n",
              "    <tr style=\"text-align: right;\">\n",
              "      <th></th>\n",
              "      <th>age</th>\n",
              "      <th>hypertension</th>\n",
              "      <th>heart_disease</th>\n",
              "      <th>avg_glucose_level</th>\n",
              "      <th>bmi</th>\n",
              "      <th>stroke</th>\n",
              "      <th>gender_Male</th>\n",
              "      <th>gender_Other</th>\n",
              "      <th>ever_married_Yes</th>\n",
              "      <th>work_type_Never_worked</th>\n",
              "      <th>work_type_Private</th>\n",
              "      <th>work_type_Self-employed</th>\n",
              "      <th>work_type_children</th>\n",
              "      <th>Residence_type_Urban</th>\n",
              "      <th>smoking_status_formerly smoked</th>\n",
              "      <th>smoking_status_never smoked</th>\n",
              "      <th>smoking_status_smokes</th>\n",
              "    </tr>\n",
              "  </thead>\n",
              "  <tbody>\n",
              "    <tr>\n",
              "      <th>0</th>\n",
              "      <td>67.0</td>\n",
              "      <td>0</td>\n",
              "      <td>1</td>\n",
              "      <td>228.69</td>\n",
              "      <td>36.6</td>\n",
              "      <td>1</td>\n",
              "      <td>1</td>\n",
              "      <td>0</td>\n",
              "      <td>1</td>\n",
              "      <td>0</td>\n",
              "      <td>1</td>\n",
              "      <td>0</td>\n",
              "      <td>0</td>\n",
              "      <td>1</td>\n",
              "      <td>1</td>\n",
              "      <td>0</td>\n",
              "      <td>0</td>\n",
              "    </tr>\n",
              "    <tr>\n",
              "      <th>1</th>\n",
              "      <td>61.0</td>\n",
              "      <td>0</td>\n",
              "      <td>0</td>\n",
              "      <td>202.21</td>\n",
              "      <td>NaN</td>\n",
              "      <td>1</td>\n",
              "      <td>0</td>\n",
              "      <td>0</td>\n",
              "      <td>1</td>\n",
              "      <td>0</td>\n",
              "      <td>0</td>\n",
              "      <td>1</td>\n",
              "      <td>0</td>\n",
              "      <td>0</td>\n",
              "      <td>0</td>\n",
              "      <td>1</td>\n",
              "      <td>0</td>\n",
              "    </tr>\n",
              "    <tr>\n",
              "      <th>2</th>\n",
              "      <td>80.0</td>\n",
              "      <td>0</td>\n",
              "      <td>1</td>\n",
              "      <td>105.92</td>\n",
              "      <td>32.5</td>\n",
              "      <td>1</td>\n",
              "      <td>1</td>\n",
              "      <td>0</td>\n",
              "      <td>1</td>\n",
              "      <td>0</td>\n",
              "      <td>1</td>\n",
              "      <td>0</td>\n",
              "      <td>0</td>\n",
              "      <td>0</td>\n",
              "      <td>0</td>\n",
              "      <td>1</td>\n",
              "      <td>0</td>\n",
              "    </tr>\n",
              "    <tr>\n",
              "      <th>3</th>\n",
              "      <td>49.0</td>\n",
              "      <td>0</td>\n",
              "      <td>0</td>\n",
              "      <td>171.23</td>\n",
              "      <td>34.4</td>\n",
              "      <td>1</td>\n",
              "      <td>0</td>\n",
              "      <td>0</td>\n",
              "      <td>1</td>\n",
              "      <td>0</td>\n",
              "      <td>1</td>\n",
              "      <td>0</td>\n",
              "      <td>0</td>\n",
              "      <td>1</td>\n",
              "      <td>0</td>\n",
              "      <td>0</td>\n",
              "      <td>1</td>\n",
              "    </tr>\n",
              "    <tr>\n",
              "      <th>4</th>\n",
              "      <td>79.0</td>\n",
              "      <td>1</td>\n",
              "      <td>0</td>\n",
              "      <td>174.12</td>\n",
              "      <td>24.0</td>\n",
              "      <td>1</td>\n",
              "      <td>0</td>\n",
              "      <td>0</td>\n",
              "      <td>1</td>\n",
              "      <td>0</td>\n",
              "      <td>0</td>\n",
              "      <td>1</td>\n",
              "      <td>0</td>\n",
              "      <td>0</td>\n",
              "      <td>0</td>\n",
              "      <td>1</td>\n",
              "      <td>0</td>\n",
              "    </tr>\n",
              "    <tr>\n",
              "      <th>...</th>\n",
              "      <td>...</td>\n",
              "      <td>...</td>\n",
              "      <td>...</td>\n",
              "      <td>...</td>\n",
              "      <td>...</td>\n",
              "      <td>...</td>\n",
              "      <td>...</td>\n",
              "      <td>...</td>\n",
              "      <td>...</td>\n",
              "      <td>...</td>\n",
              "      <td>...</td>\n",
              "      <td>...</td>\n",
              "      <td>...</td>\n",
              "      <td>...</td>\n",
              "      <td>...</td>\n",
              "      <td>...</td>\n",
              "      <td>...</td>\n",
              "    </tr>\n",
              "    <tr>\n",
              "      <th>5105</th>\n",
              "      <td>80.0</td>\n",
              "      <td>1</td>\n",
              "      <td>0</td>\n",
              "      <td>83.75</td>\n",
              "      <td>NaN</td>\n",
              "      <td>0</td>\n",
              "      <td>0</td>\n",
              "      <td>0</td>\n",
              "      <td>1</td>\n",
              "      <td>0</td>\n",
              "      <td>1</td>\n",
              "      <td>0</td>\n",
              "      <td>0</td>\n",
              "      <td>1</td>\n",
              "      <td>0</td>\n",
              "      <td>1</td>\n",
              "      <td>0</td>\n",
              "    </tr>\n",
              "    <tr>\n",
              "      <th>5106</th>\n",
              "      <td>81.0</td>\n",
              "      <td>0</td>\n",
              "      <td>0</td>\n",
              "      <td>125.20</td>\n",
              "      <td>40.0</td>\n",
              "      <td>0</td>\n",
              "      <td>0</td>\n",
              "      <td>0</td>\n",
              "      <td>1</td>\n",
              "      <td>0</td>\n",
              "      <td>0</td>\n",
              "      <td>1</td>\n",
              "      <td>0</td>\n",
              "      <td>1</td>\n",
              "      <td>0</td>\n",
              "      <td>1</td>\n",
              "      <td>0</td>\n",
              "    </tr>\n",
              "    <tr>\n",
              "      <th>5107</th>\n",
              "      <td>35.0</td>\n",
              "      <td>0</td>\n",
              "      <td>0</td>\n",
              "      <td>82.99</td>\n",
              "      <td>30.6</td>\n",
              "      <td>0</td>\n",
              "      <td>0</td>\n",
              "      <td>0</td>\n",
              "      <td>1</td>\n",
              "      <td>0</td>\n",
              "      <td>0</td>\n",
              "      <td>1</td>\n",
              "      <td>0</td>\n",
              "      <td>0</td>\n",
              "      <td>0</td>\n",
              "      <td>1</td>\n",
              "      <td>0</td>\n",
              "    </tr>\n",
              "    <tr>\n",
              "      <th>5108</th>\n",
              "      <td>51.0</td>\n",
              "      <td>0</td>\n",
              "      <td>0</td>\n",
              "      <td>166.29</td>\n",
              "      <td>25.6</td>\n",
              "      <td>0</td>\n",
              "      <td>1</td>\n",
              "      <td>0</td>\n",
              "      <td>1</td>\n",
              "      <td>0</td>\n",
              "      <td>1</td>\n",
              "      <td>0</td>\n",
              "      <td>0</td>\n",
              "      <td>0</td>\n",
              "      <td>1</td>\n",
              "      <td>0</td>\n",
              "      <td>0</td>\n",
              "    </tr>\n",
              "    <tr>\n",
              "      <th>5109</th>\n",
              "      <td>44.0</td>\n",
              "      <td>0</td>\n",
              "      <td>0</td>\n",
              "      <td>85.28</td>\n",
              "      <td>26.2</td>\n",
              "      <td>0</td>\n",
              "      <td>0</td>\n",
              "      <td>0</td>\n",
              "      <td>1</td>\n",
              "      <td>0</td>\n",
              "      <td>0</td>\n",
              "      <td>0</td>\n",
              "      <td>0</td>\n",
              "      <td>1</td>\n",
              "      <td>0</td>\n",
              "      <td>0</td>\n",
              "      <td>0</td>\n",
              "    </tr>\n",
              "  </tbody>\n",
              "</table>\n",
              "<p>5110 rows × 17 columns</p>\n",
              "</div>"
            ],
            "text/plain": [
              "       age  hypertension  ...  smoking_status_never smoked  smoking_status_smokes\n",
              "0     67.0             0  ...                            0                      0\n",
              "1     61.0             0  ...                            1                      0\n",
              "2     80.0             0  ...                            1                      0\n",
              "3     49.0             0  ...                            0                      1\n",
              "4     79.0             1  ...                            1                      0\n",
              "...    ...           ...  ...                          ...                    ...\n",
              "5105  80.0             1  ...                            1                      0\n",
              "5106  81.0             0  ...                            1                      0\n",
              "5107  35.0             0  ...                            1                      0\n",
              "5108  51.0             0  ...                            0                      0\n",
              "5109  44.0             0  ...                            0                      0\n",
              "\n",
              "[5110 rows x 17 columns]"
            ]
          },
          "metadata": {
            "tags": []
          },
          "execution_count": 35
        }
      ]
    },
    {
      "cell_type": "code",
      "metadata": {
        "colab": {
          "base_uri": "https://localhost:8080/",
          "height": 644
        },
        "id": "mlzn7Q3LPlW8",
        "outputId": "0735b011-0745-43ef-e41b-bcf42fc59f00"
      },
      "source": [
        "corr_dummies_matrix = df_dummies.corr()\n",
        "corr_dummies_matrix"
      ],
      "execution_count": 36,
      "outputs": [
        {
          "output_type": "execute_result",
          "data": {
            "text/html": [
              "<div>\n",
              "<style scoped>\n",
              "    .dataframe tbody tr th:only-of-type {\n",
              "        vertical-align: middle;\n",
              "    }\n",
              "\n",
              "    .dataframe tbody tr th {\n",
              "        vertical-align: top;\n",
              "    }\n",
              "\n",
              "    .dataframe thead th {\n",
              "        text-align: right;\n",
              "    }\n",
              "</style>\n",
              "<table border=\"1\" class=\"dataframe\">\n",
              "  <thead>\n",
              "    <tr style=\"text-align: right;\">\n",
              "      <th></th>\n",
              "      <th>age</th>\n",
              "      <th>hypertension</th>\n",
              "      <th>heart_disease</th>\n",
              "      <th>avg_glucose_level</th>\n",
              "      <th>bmi</th>\n",
              "      <th>stroke</th>\n",
              "      <th>gender_Male</th>\n",
              "      <th>gender_Other</th>\n",
              "      <th>ever_married_Yes</th>\n",
              "      <th>work_type_Never_worked</th>\n",
              "      <th>work_type_Private</th>\n",
              "      <th>work_type_Self-employed</th>\n",
              "      <th>work_type_children</th>\n",
              "      <th>Residence_type_Urban</th>\n",
              "      <th>smoking_status_formerly smoked</th>\n",
              "      <th>smoking_status_never smoked</th>\n",
              "      <th>smoking_status_smokes</th>\n",
              "    </tr>\n",
              "  </thead>\n",
              "  <tbody>\n",
              "    <tr>\n",
              "      <th>age</th>\n",
              "      <td>1.000000</td>\n",
              "      <td>0.276398</td>\n",
              "      <td>0.263796</td>\n",
              "      <td>0.238171</td>\n",
              "      <td>0.333398</td>\n",
              "      <td>0.245257</td>\n",
              "      <td>-0.027623</td>\n",
              "      <td>-0.010659</td>\n",
              "      <td>0.679125</td>\n",
              "      <td>-0.078653</td>\n",
              "      <td>0.116534</td>\n",
              "      <td>0.327989</td>\n",
              "      <td>-0.634215</td>\n",
              "      <td>0.014180</td>\n",
              "      <td>0.236897</td>\n",
              "      <td>0.119307</td>\n",
              "      <td>0.073133</td>\n",
              "    </tr>\n",
              "    <tr>\n",
              "      <th>hypertension</th>\n",
              "      <td>0.276398</td>\n",
              "      <td>1.000000</td>\n",
              "      <td>0.108306</td>\n",
              "      <td>0.174474</td>\n",
              "      <td>0.167811</td>\n",
              "      <td>0.127904</td>\n",
              "      <td>0.021275</td>\n",
              "      <td>-0.004597</td>\n",
              "      <td>0.164243</td>\n",
              "      <td>-0.021608</td>\n",
              "      <td>-0.005413</td>\n",
              "      <td>0.115442</td>\n",
              "      <td>-0.129506</td>\n",
              "      <td>-0.007913</td>\n",
              "      <td>0.058853</td>\n",
              "      <td>0.065063</td>\n",
              "      <td>0.031240</td>\n",
              "    </tr>\n",
              "    <tr>\n",
              "      <th>heart_disease</th>\n",
              "      <td>0.263796</td>\n",
              "      <td>0.108306</td>\n",
              "      <td>1.000000</td>\n",
              "      <td>0.161857</td>\n",
              "      <td>0.041357</td>\n",
              "      <td>0.134914</td>\n",
              "      <td>0.085717</td>\n",
              "      <td>-0.003343</td>\n",
              "      <td>0.114644</td>\n",
              "      <td>-0.015712</td>\n",
              "      <td>0.000027</td>\n",
              "      <td>0.086760</td>\n",
              "      <td>-0.091634</td>\n",
              "      <td>0.003092</td>\n",
              "      <td>0.066804</td>\n",
              "      <td>-0.021856</td>\n",
              "      <td>0.044049</td>\n",
              "    </tr>\n",
              "    <tr>\n",
              "      <th>avg_glucose_level</th>\n",
              "      <td>0.238171</td>\n",
              "      <td>0.174474</td>\n",
              "      <td>0.161857</td>\n",
              "      <td>1.000000</td>\n",
              "      <td>0.175502</td>\n",
              "      <td>0.131945</td>\n",
              "      <td>0.054580</td>\n",
              "      <td>0.011489</td>\n",
              "      <td>0.155068</td>\n",
              "      <td>-0.014675</td>\n",
              "      <td>0.016588</td>\n",
              "      <td>0.062694</td>\n",
              "      <td>-0.102250</td>\n",
              "      <td>-0.004946</td>\n",
              "      <td>0.068111</td>\n",
              "      <td>0.023885</td>\n",
              "      <td>0.017646</td>\n",
              "    </tr>\n",
              "    <tr>\n",
              "      <th>bmi</th>\n",
              "      <td>0.333398</td>\n",
              "      <td>0.167811</td>\n",
              "      <td>0.041357</td>\n",
              "      <td>0.175502</td>\n",
              "      <td>1.000000</td>\n",
              "      <td>0.042374</td>\n",
              "      <td>-0.026020</td>\n",
              "      <td>-0.011802</td>\n",
              "      <td>0.341695</td>\n",
              "      <td>-0.028602</td>\n",
              "      <td>0.208029</td>\n",
              "      <td>0.072701</td>\n",
              "      <td>-0.448674</td>\n",
              "      <td>-0.000122</td>\n",
              "      <td>0.107031</td>\n",
              "      <td>0.107964</td>\n",
              "      <td>0.088324</td>\n",
              "    </tr>\n",
              "    <tr>\n",
              "      <th>stroke</th>\n",
              "      <td>0.245257</td>\n",
              "      <td>0.127904</td>\n",
              "      <td>0.134914</td>\n",
              "      <td>0.131945</td>\n",
              "      <td>0.042374</td>\n",
              "      <td>1.000000</td>\n",
              "      <td>0.009117</td>\n",
              "      <td>-0.003166</td>\n",
              "      <td>0.108340</td>\n",
              "      <td>-0.014882</td>\n",
              "      <td>0.011888</td>\n",
              "      <td>0.062168</td>\n",
              "      <td>-0.083869</td>\n",
              "      <td>0.015458</td>\n",
              "      <td>0.064556</td>\n",
              "      <td>-0.004129</td>\n",
              "      <td>0.008939</td>\n",
              "    </tr>\n",
              "    <tr>\n",
              "      <th>gender_Male</th>\n",
              "      <td>-0.027623</td>\n",
              "      <td>0.021275</td>\n",
              "      <td>0.085717</td>\n",
              "      <td>0.054580</td>\n",
              "      <td>-0.026020</td>\n",
              "      <td>0.009117</td>\n",
              "      <td>1.000000</td>\n",
              "      <td>-0.011757</td>\n",
              "      <td>-0.029936</td>\n",
              "      <td>0.011496</td>\n",
              "      <td>-0.032639</td>\n",
              "      <td>-0.025971</td>\n",
              "      <td>0.089283</td>\n",
              "      <td>-0.005937</td>\n",
              "      <td>0.042738</td>\n",
              "      <td>-0.098813</td>\n",
              "      <td>0.011477</td>\n",
              "    </tr>\n",
              "    <tr>\n",
              "      <th>gender_Other</th>\n",
              "      <td>-0.010659</td>\n",
              "      <td>-0.004597</td>\n",
              "      <td>-0.003343</td>\n",
              "      <td>0.011489</td>\n",
              "      <td>-0.011802</td>\n",
              "      <td>-0.003166</td>\n",
              "      <td>-0.011757</td>\n",
              "      <td>1.000000</td>\n",
              "      <td>-0.019327</td>\n",
              "      <td>-0.000920</td>\n",
              "      <td>0.012092</td>\n",
              "      <td>-0.006112</td>\n",
              "      <td>-0.005514</td>\n",
              "      <td>-0.014217</td>\n",
              "      <td>0.030568</td>\n",
              "      <td>-0.010728</td>\n",
              "      <td>-0.005978</td>\n",
              "    </tr>\n",
              "    <tr>\n",
              "      <th>ever_married_Yes</th>\n",
              "      <td>0.679125</td>\n",
              "      <td>0.164243</td>\n",
              "      <td>0.114644</td>\n",
              "      <td>0.155068</td>\n",
              "      <td>0.341695</td>\n",
              "      <td>0.108340</td>\n",
              "      <td>-0.029936</td>\n",
              "      <td>-0.019327</td>\n",
              "      <td>1.000000</td>\n",
              "      <td>-0.090838</td>\n",
              "      <td>0.153830</td>\n",
              "      <td>0.192716</td>\n",
              "      <td>-0.544441</td>\n",
              "      <td>0.006261</td>\n",
              "      <td>0.171256</td>\n",
              "      <td>0.102845</td>\n",
              "      <td>0.105226</td>\n",
              "    </tr>\n",
              "    <tr>\n",
              "      <th>work_type_Never_worked</th>\n",
              "      <td>-0.078653</td>\n",
              "      <td>-0.021608</td>\n",
              "      <td>-0.015712</td>\n",
              "      <td>-0.014675</td>\n",
              "      <td>-0.028602</td>\n",
              "      <td>-0.014882</td>\n",
              "      <td>0.011496</td>\n",
              "      <td>-0.000920</td>\n",
              "      <td>-0.090838</td>\n",
              "      <td>1.000000</td>\n",
              "      <td>-0.076081</td>\n",
              "      <td>-0.028728</td>\n",
              "      <td>-0.025915</td>\n",
              "      <td>0.022859</td>\n",
              "      <td>-0.030095</td>\n",
              "      <td>0.036238</td>\n",
              "      <td>-0.028099</td>\n",
              "    </tr>\n",
              "    <tr>\n",
              "      <th>work_type_Private</th>\n",
              "      <td>0.116534</td>\n",
              "      <td>-0.005413</td>\n",
              "      <td>0.000027</td>\n",
              "      <td>0.016588</td>\n",
              "      <td>0.208029</td>\n",
              "      <td>0.011888</td>\n",
              "      <td>-0.032639</td>\n",
              "      <td>0.012092</td>\n",
              "      <td>0.153830</td>\n",
              "      <td>-0.076081</td>\n",
              "      <td>1.000000</td>\n",
              "      <td>-0.505475</td>\n",
              "      <td>-0.455992</td>\n",
              "      <td>-0.018173</td>\n",
              "      <td>0.025526</td>\n",
              "      <td>0.104860</td>\n",
              "      <td>0.100025</td>\n",
              "    </tr>\n",
              "    <tr>\n",
              "      <th>work_type_Self-employed</th>\n",
              "      <td>0.327989</td>\n",
              "      <td>0.115442</td>\n",
              "      <td>0.086760</td>\n",
              "      <td>0.062694</td>\n",
              "      <td>0.072701</td>\n",
              "      <td>0.062168</td>\n",
              "      <td>-0.025971</td>\n",
              "      <td>-0.006112</td>\n",
              "      <td>0.192716</td>\n",
              "      <td>-0.028728</td>\n",
              "      <td>-0.505475</td>\n",
              "      <td>1.000000</td>\n",
              "      <td>-0.172180</td>\n",
              "      <td>0.010594</td>\n",
              "      <td>0.093260</td>\n",
              "      <td>0.030668</td>\n",
              "      <td>-0.003626</td>\n",
              "    </tr>\n",
              "    <tr>\n",
              "      <th>work_type_children</th>\n",
              "      <td>-0.634215</td>\n",
              "      <td>-0.129506</td>\n",
              "      <td>-0.091634</td>\n",
              "      <td>-0.102250</td>\n",
              "      <td>-0.448674</td>\n",
              "      <td>-0.083869</td>\n",
              "      <td>0.089283</td>\n",
              "      <td>-0.005514</td>\n",
              "      <td>-0.544441</td>\n",
              "      <td>-0.025915</td>\n",
              "      <td>-0.455992</td>\n",
              "      <td>-0.172180</td>\n",
              "      <td>1.000000</td>\n",
              "      <td>-0.002309</td>\n",
              "      <td>-0.160668</td>\n",
              "      <td>-0.238041</td>\n",
              "      <td>-0.165234</td>\n",
              "    </tr>\n",
              "    <tr>\n",
              "      <th>Residence_type_Urban</th>\n",
              "      <td>0.014180</td>\n",
              "      <td>-0.007913</td>\n",
              "      <td>0.003092</td>\n",
              "      <td>-0.004946</td>\n",
              "      <td>-0.000122</td>\n",
              "      <td>0.015458</td>\n",
              "      <td>-0.005937</td>\n",
              "      <td>-0.014217</td>\n",
              "      <td>0.006261</td>\n",
              "      <td>0.022859</td>\n",
              "      <td>-0.018173</td>\n",
              "      <td>0.010594</td>\n",
              "      <td>-0.002309</td>\n",
              "      <td>1.000000</td>\n",
              "      <td>0.007654</td>\n",
              "      <td>-0.024466</td>\n",
              "      <td>0.027266</td>\n",
              "    </tr>\n",
              "    <tr>\n",
              "      <th>smoking_status_formerly smoked</th>\n",
              "      <td>0.236897</td>\n",
              "      <td>0.058853</td>\n",
              "      <td>0.066804</td>\n",
              "      <td>0.068111</td>\n",
              "      <td>0.107031</td>\n",
              "      <td>0.064556</td>\n",
              "      <td>0.042738</td>\n",
              "      <td>0.030568</td>\n",
              "      <td>0.171256</td>\n",
              "      <td>-0.030095</td>\n",
              "      <td>0.025526</td>\n",
              "      <td>0.093260</td>\n",
              "      <td>-0.160668</td>\n",
              "      <td>0.007654</td>\n",
              "      <td>1.000000</td>\n",
              "      <td>-0.350934</td>\n",
              "      <td>-0.195571</td>\n",
              "    </tr>\n",
              "    <tr>\n",
              "      <th>smoking_status_never smoked</th>\n",
              "      <td>0.119307</td>\n",
              "      <td>0.065063</td>\n",
              "      <td>-0.021856</td>\n",
              "      <td>0.023885</td>\n",
              "      <td>0.107964</td>\n",
              "      <td>-0.004129</td>\n",
              "      <td>-0.098813</td>\n",
              "      <td>-0.010728</td>\n",
              "      <td>0.102845</td>\n",
              "      <td>0.036238</td>\n",
              "      <td>0.104860</td>\n",
              "      <td>0.030668</td>\n",
              "      <td>-0.238041</td>\n",
              "      <td>-0.024466</td>\n",
              "      <td>-0.350934</td>\n",
              "      <td>1.000000</td>\n",
              "      <td>-0.327653</td>\n",
              "    </tr>\n",
              "    <tr>\n",
              "      <th>smoking_status_smokes</th>\n",
              "      <td>0.073133</td>\n",
              "      <td>0.031240</td>\n",
              "      <td>0.044049</td>\n",
              "      <td>0.017646</td>\n",
              "      <td>0.088324</td>\n",
              "      <td>0.008939</td>\n",
              "      <td>0.011477</td>\n",
              "      <td>-0.005978</td>\n",
              "      <td>0.105226</td>\n",
              "      <td>-0.028099</td>\n",
              "      <td>0.100025</td>\n",
              "      <td>-0.003626</td>\n",
              "      <td>-0.165234</td>\n",
              "      <td>0.027266</td>\n",
              "      <td>-0.195571</td>\n",
              "      <td>-0.327653</td>\n",
              "      <td>1.000000</td>\n",
              "    </tr>\n",
              "  </tbody>\n",
              "</table>\n",
              "</div>"
            ],
            "text/plain": [
              "                                     age  ...  smoking_status_smokes\n",
              "age                             1.000000  ...               0.073133\n",
              "hypertension                    0.276398  ...               0.031240\n",
              "heart_disease                   0.263796  ...               0.044049\n",
              "avg_glucose_level               0.238171  ...               0.017646\n",
              "bmi                             0.333398  ...               0.088324\n",
              "stroke                          0.245257  ...               0.008939\n",
              "gender_Male                    -0.027623  ...               0.011477\n",
              "gender_Other                   -0.010659  ...              -0.005978\n",
              "ever_married_Yes                0.679125  ...               0.105226\n",
              "work_type_Never_worked         -0.078653  ...              -0.028099\n",
              "work_type_Private               0.116534  ...               0.100025\n",
              "work_type_Self-employed         0.327989  ...              -0.003626\n",
              "work_type_children             -0.634215  ...              -0.165234\n",
              "Residence_type_Urban            0.014180  ...               0.027266\n",
              "smoking_status_formerly smoked  0.236897  ...              -0.195571\n",
              "smoking_status_never smoked     0.119307  ...              -0.327653\n",
              "smoking_status_smokes           0.073133  ...               1.000000\n",
              "\n",
              "[17 rows x 17 columns]"
            ]
          },
          "metadata": {
            "tags": []
          },
          "execution_count": 36
        }
      ]
    },
    {
      "cell_type": "code",
      "metadata": {
        "colab": {
          "base_uri": "https://localhost:8080/",
          "height": 573
        },
        "id": "6PuR86WvSapr",
        "outputId": "6ffb826c-df5c-4cf9-f792-beee0e76a522"
      },
      "source": [
        "corr_dummies_stroke = corr_dummies_matrix[['stroke']].sort_values(by=['stroke'], ascending= False)\n",
        "corr_dummies_stroke"
      ],
      "execution_count": 37,
      "outputs": [
        {
          "output_type": "execute_result",
          "data": {
            "text/html": [
              "<div>\n",
              "<style scoped>\n",
              "    .dataframe tbody tr th:only-of-type {\n",
              "        vertical-align: middle;\n",
              "    }\n",
              "\n",
              "    .dataframe tbody tr th {\n",
              "        vertical-align: top;\n",
              "    }\n",
              "\n",
              "    .dataframe thead th {\n",
              "        text-align: right;\n",
              "    }\n",
              "</style>\n",
              "<table border=\"1\" class=\"dataframe\">\n",
              "  <thead>\n",
              "    <tr style=\"text-align: right;\">\n",
              "      <th></th>\n",
              "      <th>stroke</th>\n",
              "    </tr>\n",
              "  </thead>\n",
              "  <tbody>\n",
              "    <tr>\n",
              "      <th>stroke</th>\n",
              "      <td>1.000000</td>\n",
              "    </tr>\n",
              "    <tr>\n",
              "      <th>age</th>\n",
              "      <td>0.245257</td>\n",
              "    </tr>\n",
              "    <tr>\n",
              "      <th>heart_disease</th>\n",
              "      <td>0.134914</td>\n",
              "    </tr>\n",
              "    <tr>\n",
              "      <th>avg_glucose_level</th>\n",
              "      <td>0.131945</td>\n",
              "    </tr>\n",
              "    <tr>\n",
              "      <th>hypertension</th>\n",
              "      <td>0.127904</td>\n",
              "    </tr>\n",
              "    <tr>\n",
              "      <th>ever_married_Yes</th>\n",
              "      <td>0.108340</td>\n",
              "    </tr>\n",
              "    <tr>\n",
              "      <th>smoking_status_formerly smoked</th>\n",
              "      <td>0.064556</td>\n",
              "    </tr>\n",
              "    <tr>\n",
              "      <th>work_type_Self-employed</th>\n",
              "      <td>0.062168</td>\n",
              "    </tr>\n",
              "    <tr>\n",
              "      <th>bmi</th>\n",
              "      <td>0.042374</td>\n",
              "    </tr>\n",
              "    <tr>\n",
              "      <th>Residence_type_Urban</th>\n",
              "      <td>0.015458</td>\n",
              "    </tr>\n",
              "    <tr>\n",
              "      <th>work_type_Private</th>\n",
              "      <td>0.011888</td>\n",
              "    </tr>\n",
              "    <tr>\n",
              "      <th>gender_Male</th>\n",
              "      <td>0.009117</td>\n",
              "    </tr>\n",
              "    <tr>\n",
              "      <th>smoking_status_smokes</th>\n",
              "      <td>0.008939</td>\n",
              "    </tr>\n",
              "    <tr>\n",
              "      <th>gender_Other</th>\n",
              "      <td>-0.003166</td>\n",
              "    </tr>\n",
              "    <tr>\n",
              "      <th>smoking_status_never smoked</th>\n",
              "      <td>-0.004129</td>\n",
              "    </tr>\n",
              "    <tr>\n",
              "      <th>work_type_Never_worked</th>\n",
              "      <td>-0.014882</td>\n",
              "    </tr>\n",
              "    <tr>\n",
              "      <th>work_type_children</th>\n",
              "      <td>-0.083869</td>\n",
              "    </tr>\n",
              "  </tbody>\n",
              "</table>\n",
              "</div>"
            ],
            "text/plain": [
              "                                  stroke\n",
              "stroke                          1.000000\n",
              "age                             0.245257\n",
              "heart_disease                   0.134914\n",
              "avg_glucose_level               0.131945\n",
              "hypertension                    0.127904\n",
              "ever_married_Yes                0.108340\n",
              "smoking_status_formerly smoked  0.064556\n",
              "work_type_Self-employed         0.062168\n",
              "bmi                             0.042374\n",
              "Residence_type_Urban            0.015458\n",
              "work_type_Private               0.011888\n",
              "gender_Male                     0.009117\n",
              "smoking_status_smokes           0.008939\n",
              "gender_Other                   -0.003166\n",
              "smoking_status_never smoked    -0.004129\n",
              "work_type_Never_worked         -0.014882\n",
              "work_type_children             -0.083869"
            ]
          },
          "metadata": {
            "tags": []
          },
          "execution_count": 37
        }
      ]
    },
    {
      "cell_type": "code",
      "metadata": {
        "colab": {
          "base_uri": "https://localhost:8080/",
          "height": 286
        },
        "id": "Dx1z0yyYS8Dq",
        "outputId": "bc9b426a-07f1-4fc5-b120-6fb2b8706b04"
      },
      "source": [
        "# Plot correlations\n",
        "sns.heatmap(corr_dummies_stroke, annot=True)"
      ],
      "execution_count": 38,
      "outputs": [
        {
          "output_type": "execute_result",
          "data": {
            "text/plain": [
              "<matplotlib.axes._subplots.AxesSubplot at 0x7f2a997f0e10>"
            ]
          },
          "metadata": {
            "tags": []
          },
          "execution_count": 38
        },
        {
          "output_type": "display_data",
          "data": {
            "image/png": "[encoded data removed]",
            "text/plain": [
              "<Figure size 432x288 with 2 Axes>"
            ]
          },
          "metadata": {
            "tags": [],
            "needs_background": "light"
          }
        }
      ]
    },
    {
      "cell_type": "code",
      "metadata": {
        "colab": {
          "base_uri": "https://localhost:8080/",
          "height": 296
        },
        "id": "2JcrIN4Jqh0X",
        "outputId": "b89d056c-48a1-4826-9164-44d38f60085f"
      },
      "source": [
        "sns.scatterplot(data=df, x=\"age\", y=\"avg_glucose_level\", hue=\"stroke\")"
      ],
      "execution_count": 39,
      "outputs": [
        {
          "output_type": "execute_result",
          "data": {
            "text/plain": [
              "<matplotlib.axes._subplots.AxesSubplot at 0x7f2a9976a550>"
            ]
          },
          "metadata": {
            "tags": []
          },
          "execution_count": 39
        },
        {
          "output_type": "display_data",
          "data": {
            "image/png": "[encoded data removed]",
            "text/plain": [
              "<Figure size 432x288 with 1 Axes>"
            ]
          },
          "metadata": {
            "tags": [],
            "needs_background": "light"
          }
        }
      ]
    },
    {
      "cell_type": "code",
      "metadata": {
        "id": "FYCZY-6ZyaI4"
      },
      "source": [
        ""
      ],
      "execution_count": 39,
      "outputs": []
    }
  ]
}