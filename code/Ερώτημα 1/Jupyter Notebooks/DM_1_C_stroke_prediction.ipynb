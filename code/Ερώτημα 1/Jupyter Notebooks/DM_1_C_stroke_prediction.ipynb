{
  "nbformat": 4,
  "nbformat_minor": 0,
  "metadata": {
    "colab": {
      "name": "DM_1_C_stroke_prediction.ipynb",
      "provenance": [],
      "collapsed_sections": []
    },
    "kernelspec": {
      "display_name": "Python 3",
      "name": "python3"
    },
    "language_info": {
      "name": "python"
    },
    "accelerator": "GPU"
  },
  "cells": [
    {
      "cell_type": "code",
      "metadata": {
        "id": "b3Paym-ycOPU",
        "colab": {
          "base_uri": "https://localhost:8080/"
        },
        "outputId": "765dde0b-a066-45bd-d18f-dfb18cc0bac5"
      },
      "source": [
        "#Import libraries\n",
        "import pandas as pd\n",
        "from sklearn.ensemble import RandomForestClassifier\n",
        "from sklearn.model_selection import train_test_split\n",
        "from sklearn import preprocessing, metrics\n",
        "from sklearn.metrics import classification_report\n",
        "import seaborn as sns\n",
        "from sklearn.utils import shuffle\n",
        "from sklearn.model_selection import GridSearchCV\n",
        "from imblearn.over_sampling import RandomOverSampler, SMOTE, ADASYN"
      ],
      "execution_count": 1,
      "outputs": [
        {
          "output_type": "stream",
          "text": [
            "/usr/local/lib/python3.7/dist-packages/sklearn/externals/six.py:31: FutureWarning: The module is deprecated in version 0.21 and will be removed in version 0.23 since we've dropped support for Python 2.7. Please rely on the official version of six (https://pypi.org/project/six/).\n",
            "  \"(https://pypi.org/project/six/).\", FutureWarning)\n",
            "/usr/local/lib/python3.7/dist-packages/sklearn/utils/deprecation.py:144: FutureWarning: The sklearn.neighbors.base module is  deprecated in version 0.22 and will be removed in version 0.24. The corresponding classes / functions should instead be imported from sklearn.neighbors. Anything that cannot be imported from sklearn.neighbors is now part of the private API.\n",
            "  warnings.warn(message, FutureWarning)\n"
          ],
          "name": "stderr"
        }
      ]
    },
    {
      "cell_type": "code",
      "metadata": {
        "id": "L3xqvpmkAFBR"
      },
      "source": [
        "#Initialize a list for datasets, models, and all the training/testing sets\n",
        "\n",
        "df, models , X, y, X_train, X_naive_OS, X_SMOTE, X_ADASYN, X_test, y_train, y_naive_OS, y_SMOTE, y_ADASYN, y_test, y_pred, y_pred_training = ([] for i in range(16))"
      ],
      "execution_count": 2,
      "outputs": []
    },
    {
      "cell_type": "code",
      "metadata": {
        "id": "pDmqZfCJ_3En"
      },
      "source": [
        "# Load all the processed datasets in the dataset list\n",
        "for id in range(5):\n",
        "  df.append(pd.read_csv(f\"drive/MyDrive/DataMining/healthcare_processed_datasets/df{id+1}.csv\", index_col=[0]))\n",
        "  X.append(pd.get_dummies(df[id],drop_first=True).drop(['id','stroke'], axis=1))\n",
        "  # df[id] = df[id].sample(frac=1)\n",
        "  y.append(df[id].stroke)\n",
        "  X_train.append(None)\n",
        "  X_naive_OS.append(None)\n",
        "  X_SMOTE.append(None)\n",
        "  X_ADASYN.append(None)\n",
        "  X_test.append(None)\n",
        "  y_train.append(None)\n",
        "  y_naive_OS.append(None)\n",
        "  y_SMOTE.append(None)\n",
        "  y_ADASYN.append(None)\n",
        "  y_test.append(None)\n",
        "  y_pred.append(None)\n",
        "  y_pred_training.append(None)\n"
      ],
      "execution_count": 3,
      "outputs": []
    },
    {
      "cell_type": "code",
      "metadata": {
        "colab": {
          "base_uri": "https://localhost:8080/"
        },
        "id": "ebFN1WGZRh68",
        "outputId": "7ce1e298-d963-4627-fdd6-d557dbbecb32"
      },
      "source": [
        "df[3]['stroke'].value_counts()"
      ],
      "execution_count": 4,
      "outputs": [
        {
          "output_type": "execute_result",
          "data": {
            "text/plain": [
              "0    4861\n",
              "1     249\n",
              "Name: stroke, dtype: int64"
            ]
          },
          "metadata": {
            "tags": []
          },
          "execution_count": 4
        }
      ]
    },
    {
      "cell_type": "code",
      "metadata": {
        "id": "7b-9UD4FEjq4",
        "colab": {
          "base_uri": "https://localhost:8080/"
        },
        "outputId": "aa9dd1dc-d8d9-402b-f631-bc312bac19c2"
      },
      "source": [
        "# Input/output arrays and train test split\n",
        "ros = RandomOverSampler(random_state=0)\n",
        "for id in range(5):\n",
        "  X_train[id], X_test[id], y_train[id], y_test[id] = train_test_split( X[id], y[id], test_size=0.25, random_state=0)\n",
        "  X_naive_OS[id], y_naive_OS[id] = ros.fit_resample(X_train[id], y_train[id])\n",
        "  X_SMOTE[id], y_SMOTE[id] = SMOTE(random_state= 0, sampling_strategy='minority', k_neighbors=30).fit_resample(X_train[id], y_train[id])\n",
        "  X_ADASYN[id], y_ADASYN[id] = ADASYN(random_state= 0, sampling_strategy='minority', n_neighbors=10).fit_resample(X_train[id], y_train[id])"
      ],
      "execution_count": 5,
      "outputs": [
        {
          "output_type": "stream",
          "text": [
            "/usr/local/lib/python3.7/dist-packages/sklearn/utils/deprecation.py:87: FutureWarning: Function safe_indexing is deprecated; safe_indexing is deprecated in version 0.22 and will be removed in version 0.24.\n",
            "  warnings.warn(msg, category=FutureWarning)\n",
            "/usr/local/lib/python3.7/dist-packages/sklearn/utils/deprecation.py:87: FutureWarning: Function safe_indexing is deprecated; safe_indexing is deprecated in version 0.22 and will be removed in version 0.24.\n",
            "  warnings.warn(msg, category=FutureWarning)\n",
            "/usr/local/lib/python3.7/dist-packages/sklearn/utils/deprecation.py:87: FutureWarning: Function safe_indexing is deprecated; safe_indexing is deprecated in version 0.22 and will be removed in version 0.24.\n",
            "  warnings.warn(msg, category=FutureWarning)\n",
            "/usr/local/lib/python3.7/dist-packages/sklearn/utils/deprecation.py:87: FutureWarning: Function safe_indexing is deprecated; safe_indexing is deprecated in version 0.22 and will be removed in version 0.24.\n",
            "  warnings.warn(msg, category=FutureWarning)\n",
            "/usr/local/lib/python3.7/dist-packages/sklearn/utils/deprecation.py:87: FutureWarning: Function safe_indexing is deprecated; safe_indexing is deprecated in version 0.22 and will be removed in version 0.24.\n",
            "  warnings.warn(msg, category=FutureWarning)\n",
            "/usr/local/lib/python3.7/dist-packages/sklearn/utils/deprecation.py:87: FutureWarning: Function safe_indexing is deprecated; safe_indexing is deprecated in version 0.22 and will be removed in version 0.24.\n",
            "  warnings.warn(msg, category=FutureWarning)\n",
            "/usr/local/lib/python3.7/dist-packages/sklearn/utils/deprecation.py:87: FutureWarning: Function safe_indexing is deprecated; safe_indexing is deprecated in version 0.22 and will be removed in version 0.24.\n",
            "  warnings.warn(msg, category=FutureWarning)\n",
            "/usr/local/lib/python3.7/dist-packages/sklearn/utils/deprecation.py:87: FutureWarning: Function safe_indexing is deprecated; safe_indexing is deprecated in version 0.22 and will be removed in version 0.24.\n",
            "  warnings.warn(msg, category=FutureWarning)\n",
            "/usr/local/lib/python3.7/dist-packages/sklearn/utils/deprecation.py:87: FutureWarning: Function safe_indexing is deprecated; safe_indexing is deprecated in version 0.22 and will be removed in version 0.24.\n",
            "  warnings.warn(msg, category=FutureWarning)\n",
            "/usr/local/lib/python3.7/dist-packages/sklearn/utils/deprecation.py:87: FutureWarning: Function safe_indexing is deprecated; safe_indexing is deprecated in version 0.22 and will be removed in version 0.24.\n",
            "  warnings.warn(msg, category=FutureWarning)\n",
            "/usr/local/lib/python3.7/dist-packages/sklearn/utils/deprecation.py:87: FutureWarning: Function safe_indexing is deprecated; safe_indexing is deprecated in version 0.22 and will be removed in version 0.24.\n",
            "  warnings.warn(msg, category=FutureWarning)\n",
            "/usr/local/lib/python3.7/dist-packages/sklearn/utils/deprecation.py:87: FutureWarning: Function safe_indexing is deprecated; safe_indexing is deprecated in version 0.22 and will be removed in version 0.24.\n",
            "  warnings.warn(msg, category=FutureWarning)\n",
            "/usr/local/lib/python3.7/dist-packages/sklearn/utils/deprecation.py:87: FutureWarning: Function safe_indexing is deprecated; safe_indexing is deprecated in version 0.22 and will be removed in version 0.24.\n",
            "  warnings.warn(msg, category=FutureWarning)\n",
            "/usr/local/lib/python3.7/dist-packages/sklearn/utils/deprecation.py:87: FutureWarning: Function safe_indexing is deprecated; safe_indexing is deprecated in version 0.22 and will be removed in version 0.24.\n",
            "  warnings.warn(msg, category=FutureWarning)\n",
            "/usr/local/lib/python3.7/dist-packages/sklearn/utils/deprecation.py:87: FutureWarning: Function safe_indexing is deprecated; safe_indexing is deprecated in version 0.22 and will be removed in version 0.24.\n",
            "  warnings.warn(msg, category=FutureWarning)\n"
          ],
          "name": "stderr"
        }
      ]
    },
    {
      "cell_type": "code",
      "metadata": {
        "colab": {
          "base_uri": "https://localhost:8080/"
        },
        "id": "37Fb1f-6ym91",
        "outputId": "5c398fa8-5130-4a3a-90c0-112e23667d30"
      },
      "source": [
        "# Initial Model fitting, prediction and evaluation\n",
        "# ORIGINAL\n",
        "for id in range(5):\n",
        "  models.append(RandomForestClassifier(random_state=0))\n",
        "  models[id].fit(X_train[id], y_train[id])\n",
        "  y_pred[id] = models[id].predict(X_test[id])\n",
        "\n",
        "  y_pred_training[id] = models[id].predict(X_train[id])\n",
        "\n",
        "  # print(f\"##################### MODEL {id+1} TRAINING SET #########################\")\n",
        "  # print(classification_report(y_train[id], y_pred_training[id], target_names=['NO STROKE', 'STROKE']))\n",
        "\n",
        "  print(f\"##################### MODEL {id+1} TEST SET #########################\")\n",
        "  print(classification_report(y_test[id], y_pred[id], target_names=['NO STROKE', 'STROKE']))"
      ],
      "execution_count": 6,
      "outputs": [
        {
          "output_type": "stream",
          "text": [
            "##################### MODEL 1 TEST SET #########################\n",
            "              precision    recall  f1-score   support\n",
            "\n",
            "   NO STROKE       0.95      0.99      0.97      1213\n",
            "      STROKE       0.17      0.03      0.05        65\n",
            "\n",
            "    accuracy                           0.94      1278\n",
            "   macro avg       0.56      0.51      0.51      1278\n",
            "weighted avg       0.91      0.94      0.92      1278\n",
            "\n",
            "##################### MODEL 2 TEST SET #########################\n",
            "              precision    recall  f1-score   support\n",
            "\n",
            "   NO STROKE       0.95      1.00      0.97      1213\n",
            "      STROKE       0.00      0.00      0.00        65\n",
            "\n",
            "    accuracy                           0.95      1278\n",
            "   macro avg       0.47      0.50      0.49      1278\n",
            "weighted avg       0.90      0.95      0.92      1278\n",
            "\n",
            "##################### MODEL 3 TEST SET #########################\n",
            "              precision    recall  f1-score   support\n",
            "\n",
            "   NO STROKE       0.95      1.00      0.97      1213\n",
            "      STROKE       0.00      0.00      0.00        65\n",
            "\n",
            "    accuracy                           0.95      1278\n",
            "   macro avg       0.47      0.50      0.49      1278\n",
            "weighted avg       0.90      0.95      0.92      1278\n",
            "\n",
            "##################### MODEL 4 TEST SET #########################\n",
            "              precision    recall  f1-score   support\n",
            "\n",
            "   NO STROKE       0.95      1.00      0.97      1213\n",
            "      STROKE       0.17      0.02      0.03        65\n",
            "\n",
            "    accuracy                           0.95      1278\n",
            "   macro avg       0.56      0.51      0.50      1278\n",
            "weighted avg       0.91      0.95      0.92      1278\n",
            "\n",
            "##################### MODEL 5 TEST SET #########################\n",
            "              precision    recall  f1-score   support\n",
            "\n",
            "   NO STROKE       0.95      1.00      0.97      1213\n",
            "      STROKE       0.00      0.00      0.00        65\n",
            "\n",
            "    accuracy                           0.95      1278\n",
            "   macro avg       0.47      0.50      0.49      1278\n",
            "weighted avg       0.90      0.95      0.92      1278\n",
            "\n"
          ],
          "name": "stdout"
        }
      ]
    },
    {
      "cell_type": "code",
      "metadata": {
        "colab": {
          "base_uri": "https://localhost:8080/"
        },
        "id": "MpV2Uyu4p4b6",
        "outputId": "09eca91f-a569-424c-dc98-0bdc1888ca5e"
      },
      "source": [
        "# Initial Model fitting, prediction and evaluation\n",
        "# NAIVE OS\n",
        "for id in range(5):\n",
        "  models.append(RandomForestClassifier(random_state=0))\n",
        "  models[id].fit(X_naive_OS[id], y_naive_OS[id])\n",
        "  y_pred[id] = models[id].predict(X_test[id])\n",
        "\n",
        "  # y_pred_training[id] = models[id].predict(X_train[id])\n",
        "\n",
        "  # print(f\"##################### MODEL {id+1} TRAINING SET #########################\")\n",
        "  # print(classification_report(y_train[id], y_pred_training[id], target_names=['NO STROKE', 'STROKE']))\n",
        "\n",
        "  print(f\"##################### MODEL {id+1} #########################\")\n",
        "  print(classification_report(y_test[id], y_pred[id], target_names=['NO STROKE', 'STROKE']))"
      ],
      "execution_count": 7,
      "outputs": [
        {
          "output_type": "stream",
          "text": [
            "##################### MODEL 1 #########################\n",
            "              precision    recall  f1-score   support\n",
            "\n",
            "   NO STROKE       0.95      0.98      0.96      1213\n",
            "      STROKE       0.14      0.08      0.10        65\n",
            "\n",
            "    accuracy                           0.93      1278\n",
            "   macro avg       0.55      0.53      0.53      1278\n",
            "weighted avg       0.91      0.93      0.92      1278\n",
            "\n",
            "##################### MODEL 2 #########################\n",
            "              precision    recall  f1-score   support\n",
            "\n",
            "   NO STROKE       0.95      0.99      0.97      1213\n",
            "      STROKE       0.21      0.05      0.08        65\n",
            "\n",
            "    accuracy                           0.94      1278\n",
            "   macro avg       0.58      0.52      0.52      1278\n",
            "weighted avg       0.91      0.94      0.93      1278\n",
            "\n",
            "##################### MODEL 3 #########################\n",
            "              precision    recall  f1-score   support\n",
            "\n",
            "   NO STROKE       0.95      0.99      0.97      1213\n",
            "      STROKE       0.27      0.05      0.08        65\n",
            "\n",
            "    accuracy                           0.95      1278\n",
            "   macro avg       0.61      0.52      0.53      1278\n",
            "weighted avg       0.92      0.95      0.93      1278\n",
            "\n",
            "##################### MODEL 4 #########################\n",
            "              precision    recall  f1-score   support\n",
            "\n",
            "   NO STROKE       0.95      0.99      0.97      1213\n",
            "      STROKE       0.24      0.08      0.12        65\n",
            "\n",
            "    accuracy                           0.94      1278\n",
            "   macro avg       0.60      0.53      0.54      1278\n",
            "weighted avg       0.92      0.94      0.93      1278\n",
            "\n",
            "##################### MODEL 5 #########################\n",
            "              precision    recall  f1-score   support\n",
            "\n",
            "   NO STROKE       0.95      0.99      0.97      1213\n",
            "      STROKE       0.29      0.06      0.10        65\n",
            "\n",
            "    accuracy                           0.94      1278\n",
            "   macro avg       0.62      0.53      0.54      1278\n",
            "weighted avg       0.92      0.94      0.93      1278\n",
            "\n"
          ],
          "name": "stdout"
        }
      ]
    },
    {
      "cell_type": "code",
      "metadata": {
        "colab": {
          "base_uri": "https://localhost:8080/"
        },
        "id": "gRDlpJ-8skH5",
        "outputId": "9cd2349b-46cc-416b-a110-baada541aa63"
      },
      "source": [
        "# Initial Model fitting, prediction and evaluation\n",
        "# SMOTE\n",
        "for id in range(5):\n",
        "  models.append(RandomForestClassifier(random_state=0))\n",
        "  models[id].fit(X_SMOTE[id], y_SMOTE[id])\n",
        "  y_pred[id] = models[id].predict(X_test[id])\n",
        "\n",
        "  # y_pred_training[id] = models[id].predict(X_train[id])\n",
        "\n",
        "  # print(f\"##################### MODEL {id+1} TRAINING SET #########################\")\n",
        "  # print(classification_report(y_train[id], y_pred_training[id], target_names=['NO STROKE', 'STROKE']))\n",
        "\n",
        "  print(f\"##################### MODEL {id+1} #########################\")\n",
        "  print(classification_report(y_test[id], y_pred[id], target_names=['NO STROKE', 'STROKE']))"
      ],
      "execution_count": 8,
      "outputs": [
        {
          "output_type": "stream",
          "text": [
            "##################### MODEL 1 #########################\n",
            "              precision    recall  f1-score   support\n",
            "\n",
            "   NO STROKE       0.95      0.98      0.96      1213\n",
            "      STROKE       0.15      0.08      0.10        65\n",
            "\n",
            "    accuracy                           0.93      1278\n",
            "   macro avg       0.55      0.53      0.53      1278\n",
            "weighted avg       0.91      0.93      0.92      1278\n",
            "\n",
            "##################### MODEL 2 #########################\n",
            "              precision    recall  f1-score   support\n",
            "\n",
            "   NO STROKE       0.95      0.99      0.97      1213\n",
            "      STROKE       0.18      0.05      0.07        65\n",
            "\n",
            "    accuracy                           0.94      1278\n",
            "   macro avg       0.56      0.52      0.52      1278\n",
            "weighted avg       0.91      0.94      0.92      1278\n",
            "\n",
            "##################### MODEL 3 #########################\n",
            "              precision    recall  f1-score   support\n",
            "\n",
            "   NO STROKE       0.95      0.99      0.97      1213\n",
            "      STROKE       0.28      0.11      0.16        65\n",
            "\n",
            "    accuracy                           0.94      1278\n",
            "   macro avg       0.62      0.55      0.56      1278\n",
            "weighted avg       0.92      0.94      0.93      1278\n",
            "\n",
            "##################### MODEL 4 #########################\n",
            "              precision    recall  f1-score   support\n",
            "\n",
            "   NO STROKE       0.95      0.99      0.97      1213\n",
            "      STROKE       0.15      0.05      0.07        65\n",
            "\n",
            "    accuracy                           0.94      1278\n",
            "   macro avg       0.55      0.52      0.52      1278\n",
            "weighted avg       0.91      0.94      0.92      1278\n",
            "\n",
            "##################### MODEL 5 #########################\n",
            "              precision    recall  f1-score   support\n",
            "\n",
            "   NO STROKE       0.95      0.99      0.97      1213\n",
            "      STROKE       0.28      0.08      0.12        65\n",
            "\n",
            "    accuracy                           0.94      1278\n",
            "   macro avg       0.62      0.53      0.55      1278\n",
            "weighted avg       0.92      0.94      0.93      1278\n",
            "\n"
          ],
          "name": "stdout"
        }
      ]
    },
    {
      "cell_type": "code",
      "metadata": {
        "colab": {
          "base_uri": "https://localhost:8080/"
        },
        "id": "k3tREkzptzbm",
        "outputId": "6f9a2ded-7f48-4916-c2b6-c2560954d3c5"
      },
      "source": [
        "# Initial Model fitting, prediction and evaluation\n",
        "# ADASYN\n",
        "for id in range(5):\n",
        "  models.append(RandomForestClassifier(random_state=0))\n",
        "  models[id].fit(X_ADASYN[id], y_ADASYN[id])\n",
        "  y_pred[id] = models[id].predict(X_test[id])\n",
        "\n",
        "  # y_pred_training[id] = models[id].predict(X_train[id])\n",
        "\n",
        "  # print(f\"##################### MODEL {id+1} TRAINING SET #########################\")\n",
        "  # print(classification_report(y_train[id], y_pred_training[id], target_names=['NO STROKE', 'STROKE']))\n",
        "\n",
        "  print(f\"##################### MODEL {id+1} #########################\")\n",
        "  print(classification_report(y_test[id], y_pred[id], target_names=['NO STROKE', 'STROKE']))"
      ],
      "execution_count": 9,
      "outputs": [
        {
          "output_type": "stream",
          "text": [
            "##################### MODEL 1 #########################\n",
            "              precision    recall  f1-score   support\n",
            "\n",
            "   NO STROKE       0.95      0.98      0.97      1213\n",
            "      STROKE       0.14      0.06      0.09        65\n",
            "\n",
            "    accuracy                           0.93      1278\n",
            "   macro avg       0.55      0.52      0.53      1278\n",
            "weighted avg       0.91      0.93      0.92      1278\n",
            "\n",
            "##################### MODEL 2 #########################\n",
            "              precision    recall  f1-score   support\n",
            "\n",
            "   NO STROKE       0.95      0.99      0.97      1213\n",
            "      STROKE       0.17      0.03      0.05        65\n",
            "\n",
            "    accuracy                           0.94      1278\n",
            "   macro avg       0.56      0.51      0.51      1278\n",
            "weighted avg       0.91      0.94      0.92      1278\n",
            "\n",
            "##################### MODEL 3 #########################\n",
            "              precision    recall  f1-score   support\n",
            "\n",
            "   NO STROKE       0.95      0.99      0.97      1213\n",
            "      STROKE       0.26      0.08      0.12        65\n",
            "\n",
            "    accuracy                           0.94      1278\n",
            "   macro avg       0.61      0.53      0.54      1278\n",
            "weighted avg       0.92      0.94      0.93      1278\n",
            "\n",
            "##################### MODEL 4 #########################\n",
            "              precision    recall  f1-score   support\n",
            "\n",
            "   NO STROKE       0.95      0.99      0.97      1213\n",
            "      STROKE       0.11      0.03      0.05        65\n",
            "\n",
            "    accuracy                           0.94      1278\n",
            "   macro avg       0.53      0.51      0.51      1278\n",
            "weighted avg       0.91      0.94      0.92      1278\n",
            "\n",
            "##################### MODEL 5 #########################\n",
            "              precision    recall  f1-score   support\n",
            "\n",
            "   NO STROKE       0.95      0.99      0.97      1213\n",
            "      STROKE       0.27      0.06      0.10        65\n",
            "\n",
            "    accuracy                           0.94      1278\n",
            "   macro avg       0.61      0.53      0.54      1278\n",
            "weighted avg       0.92      0.94      0.93      1278\n",
            "\n"
          ],
          "name": "stdout"
        }
      ]
    },
    {
      "cell_type": "code",
      "metadata": {
        "id": "lS0eqdboyMbi"
      },
      "source": [
        "# Final model input/output arrays/vectors\n",
        "X_train_final = X_naive_OS[2]\n",
        "X_test_final = X_test[2]\n",
        "y_train_final = y_naive_OS[2]\n",
        "y_test_final = y_test[2]"
      ],
      "execution_count": 10,
      "outputs": []
    },
    {
      "cell_type": "code",
      "metadata": {
        "id": "7msGaWwPzNuJ"
      },
      "source": [
        "parameters = {\n",
        "    'n_estimators': (10,25,50,75,100),\n",
        "    'criterion':('gini', 'entropy'),\n",
        "    'max_depth': (3,7,18),\n",
        "    'max_features':('auto','sqrt', 'log2'),\n",
        "    'min_samples_split':(2,4,6),\n",
        "    'class_weight': ('balanced', 'balanced_subsample', None)\n",
        "    }"
      ],
      "execution_count": 29,
      "outputs": []
    },
    {
      "cell_type": "code",
      "metadata": {
        "id": "K3k3xT1DPj4D"
      },
      "source": [
        "RF_grid = GridSearchCV(RandomForestClassifier(n_jobs=-1,oob_score=False), param_grid = parameters, cv=3, verbose=True, scoring='recall')"
      ],
      "execution_count": 30,
      "outputs": []
    },
    {
      "cell_type": "code",
      "metadata": {
        "colab": {
          "base_uri": "https://localhost:8080/"
        },
        "id": "6CnL_t7bQPED",
        "outputId": "3ad2ccf7-2fa6-4e8a-80e8-834d22c28b6a"
      },
      "source": [
        "RF_grid_model = RF_grid.fit(X_train_final, y_train_final)"
      ],
      "execution_count": 31,
      "outputs": [
        {
          "output_type": "stream",
          "text": [
            "Fitting 3 folds for each of 810 candidates, totalling 2430 fits\n"
          ],
          "name": "stdout"
        },
        {
          "output_type": "stream",
          "text": [
            "[Parallel(n_jobs=1)]: Using backend SequentialBackend with 1 concurrent workers.\n",
            "[Parallel(n_jobs=1)]: Done 2430 out of 2430 | elapsed: 14.6min finished\n"
          ],
          "name": "stderr"
        }
      ]
    },
    {
      "cell_type": "code",
      "metadata": {
        "colab": {
          "base_uri": "https://localhost:8080/"
        },
        "id": "48tEChs5S0rT",
        "outputId": "08e04966-8d95-4ed0-f704-2443327c4724"
      },
      "source": [
        "RF_grid_model.best_estimator_"
      ],
      "execution_count": 14,
      "outputs": [
        {
          "output_type": "execute_result",
          "data": {
            "text/plain": [
              "RandomForestClassifier(bootstrap=True, ccp_alpha=0.0, class_weight='balanced',\n",
              "                       criterion='gini', max_depth=18, max_features='auto',\n",
              "                       max_leaf_nodes=None, max_samples=None,\n",
              "                       min_impurity_decrease=0.0, min_impurity_split=None,\n",
              "                       min_samples_leaf=1, min_samples_split=2,\n",
              "                       min_weight_fraction_leaf=0.0, n_estimators=10, n_jobs=-1,\n",
              "                       oob_score=False, random_state=None, verbose=0,\n",
              "                       warm_start=False)"
            ]
          },
          "metadata": {
            "tags": []
          },
          "execution_count": 14
        }
      ]
    },
    {
      "cell_type": "code",
      "metadata": {
        "colab": {
          "base_uri": "https://localhost:8080/"
        },
        "id": "sTQv5fb7S-K7",
        "outputId": "10ed6f9a-ab7f-4607-8b60-19931c190799"
      },
      "source": [
        "RF_grid_model.best_score_"
      ],
      "execution_count": 32,
      "outputs": [
        {
          "output_type": "execute_result",
          "data": {
            "text/plain": [
              "1.0"
            ]
          },
          "metadata": {
            "tags": []
          },
          "execution_count": 32
        }
      ]
    },
    {
      "cell_type": "code",
      "metadata": {
        "id": "Zqq-WrF347md"
      },
      "source": [
        "RF_Model = RandomForestClassifier(bootstrap=True, ccp_alpha=0.0, class_weight='balanced',\n",
        "                       criterion='gini', max_depth=18, max_features='auto',\n",
        "                       max_leaf_nodes=None, max_samples=None,\n",
        "                       min_impurity_decrease=0.0, min_impurity_split=None,\n",
        "                       min_samples_leaf=1, min_samples_split=2,\n",
        "                       min_weight_fraction_leaf=0.0, n_estimators=10, n_jobs=-1,\n",
        "                       oob_score=False, random_state=None, verbose=0,\n",
        "                       warm_start=False)"
      ],
      "execution_count": 35,
      "outputs": []
    },
    {
      "cell_type": "code",
      "metadata": {
        "id": "WfpjbIsK5CCu",
        "colab": {
          "base_uri": "https://localhost:8080/"
        },
        "outputId": "d376860f-596c-42e9-b4a4-608dd73f1a05"
      },
      "source": [
        "RF_Model.fit(X_train_final, y_train_final)\n",
        "y_pred_final = RF_Model.predict(X_test_final)\n",
        "print(f\"##################### Final Model #########################\")\n",
        "print(classification_report(y_test_final, y_pred_final, target_names=['NO STROKE', 'STROKE']))"
      ],
      "execution_count": 36,
      "outputs": [
        {
          "output_type": "stream",
          "text": [
            "##################### Final Model #########################\n",
            "              precision    recall  f1-score   support\n",
            "\n",
            "   NO STROKE       0.95      0.99      0.97      1213\n",
            "      STROKE       0.26      0.08      0.12        65\n",
            "\n",
            "    accuracy                           0.94      1278\n",
            "   macro avg       0.61      0.53      0.54      1278\n",
            "weighted avg       0.92      0.94      0.93      1278\n",
            "\n"
          ],
          "name": "stdout"
        }
      ]
    }
  ]
}