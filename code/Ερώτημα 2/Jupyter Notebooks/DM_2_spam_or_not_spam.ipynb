{
  "nbformat": 4,
  "nbformat_minor": 0,
  "metadata": {
    "colab": {
      "name": "DM_2_spam_or_not_spam.ipynb",
      "provenance": [],
      "collapsed_sections": []
    },
    "kernelspec": {
      "name": "python3",
      "display_name": "Python 3"
    },
    "language_info": {
      "name": "python"
    },
    "accelerator": "TPU"
  },
  "cells": [
    {
      "cell_type": "code",
      "metadata": {
        "id": "OCx0TAzOo8am"
      },
      "source": [
        "# Import Labraries\n",
        "import pandas as pd\n",
        "from gensim.models.doc2vec import Doc2Vec, TaggedDocument\n",
        "import numpy as np\n",
        "from sklearn.model_selection import train_test_split\n",
        "from keras.models import Sequential\n",
        "from keras.layers import Dense, Activation\n",
        "from tensorflow.keras.callbacks import EarlyStopping\n",
        "from sklearn.metrics import confusion_matrix, classification_report\n",
        "from tensorflow import keras\n",
        "from matplotlib import pyplot"
      ],
      "execution_count": 1,
      "outputs": []
    },
    {
      "cell_type": "code",
      "metadata": {
        "colab": {
          "base_uri": "https://localhost:8080/"
        },
        "id": "vIochIR4XBPj",
        "outputId": "43267adb-fb35-43a6-ddc2-6e2a983dd56e"
      },
      "source": [
        "# Versions of labraries\n",
        "import gensim\n",
        "import keras\n",
        "import tensorflow\n",
        "print(f'Tensorflow:{tensorflow.__version__}\\nKeras:{keras.__version__}\\nGensim:{gensim.__version__}')"
      ],
      "execution_count": 2,
      "outputs": [
        {
          "output_type": "stream",
          "text": [
            "Tensorflow:2.5.0\n",
            "Keras:2.5.0\n",
            "Gensim:3.6.0\n"
          ],
          "name": "stdout"
        }
      ]
    },
    {
      "cell_type": "code",
      "metadata": {
        "id": "bPWtQZoFrAdn"
      },
      "source": [
        "df = pd.read_csv('drive/MyDrive/DataMining/spam_or_not_spam/spam_or_not_spam.csv')"
      ],
      "execution_count": 3,
      "outputs": []
    },
    {
      "cell_type": "code",
      "metadata": {
        "colab": {
          "base_uri": "https://localhost:8080/",
          "height": 407
        },
        "id": "40XOQ0sErQv7",
        "outputId": "c0207891-ef56-4f4f-dfea-5535ebbf44d3"
      },
      "source": [
        "df"
      ],
      "execution_count": 4,
      "outputs": [
        {
          "output_type": "execute_result",
          "data": {
            "text/html": [
              "<div>\n",
              "<style scoped>\n",
              "    .dataframe tbody tr th:only-of-type {\n",
              "        vertical-align: middle;\n",
              "    }\n",
              "\n",
              "    .dataframe tbody tr th {\n",
              "        vertical-align: top;\n",
              "    }\n",
              "\n",
              "    .dataframe thead th {\n",
              "        text-align: right;\n",
              "    }\n",
              "</style>\n",
              "<table border=\"1\" class=\"dataframe\">\n",
              "  <thead>\n",
              "    <tr style=\"text-align: right;\">\n",
              "      <th></th>\n",
              "      <th>email</th>\n",
              "      <th>label</th>\n",
              "    </tr>\n",
              "  </thead>\n",
              "  <tbody>\n",
              "    <tr>\n",
              "      <th>0</th>\n",
              "      <td>mike bostock said received from trackingNUMBE...</td>\n",
              "      <td>0</td>\n",
              "    </tr>\n",
              "    <tr>\n",
              "      <th>1</th>\n",
              "      <td>no i was just a little confused because i m r...</td>\n",
              "      <td>0</td>\n",
              "    </tr>\n",
              "    <tr>\n",
              "      <th>2</th>\n",
              "      <td>this is just an semi educated guess if i m wro...</td>\n",
              "      <td>0</td>\n",
              "    </tr>\n",
              "    <tr>\n",
              "      <th>3</th>\n",
              "      <td>jm URL justin mason writes except for NUMBER t...</td>\n",
              "      <td>0</td>\n",
              "    </tr>\n",
              "    <tr>\n",
              "      <th>4</th>\n",
              "      <td>i just picked up razor sdk NUMBER NUMBER and N...</td>\n",
              "      <td>0</td>\n",
              "    </tr>\n",
              "    <tr>\n",
              "      <th>...</th>\n",
              "      <td>...</td>\n",
              "      <td>...</td>\n",
              "    </tr>\n",
              "    <tr>\n",
              "      <th>1495</th>\n",
              "      <td>abc s good morning america ranks it the NUMBE...</td>\n",
              "      <td>1</td>\n",
              "    </tr>\n",
              "    <tr>\n",
              "      <th>1496</th>\n",
              "      <td>hyperlink hyperlink hyperlink let mortgage le...</td>\n",
              "      <td>1</td>\n",
              "    </tr>\n",
              "    <tr>\n",
              "      <th>1497</th>\n",
              "      <td>thank you for shopping with us gifts for all ...</td>\n",
              "      <td>1</td>\n",
              "    </tr>\n",
              "    <tr>\n",
              "      <th>1498</th>\n",
              "      <td>the famous ebay marketing e course learn to s...</td>\n",
              "      <td>1</td>\n",
              "    </tr>\n",
              "    <tr>\n",
              "      <th>1499</th>\n",
              "      <td>hello this is chinese traditional 子 件 NUMBER世...</td>\n",
              "      <td>1</td>\n",
              "    </tr>\n",
              "  </tbody>\n",
              "</table>\n",
              "<p>1500 rows × 2 columns</p>\n",
              "</div>"
            ],
            "text/plain": [
              "                                                  email  label\n",
              "0      mike bostock said received from trackingNUMBE...      0\n",
              "1      no i was just a little confused because i m r...      0\n",
              "2     this is just an semi educated guess if i m wro...      0\n",
              "3     jm URL justin mason writes except for NUMBER t...      0\n",
              "4     i just picked up razor sdk NUMBER NUMBER and N...      0\n",
              "...                                                 ...    ...\n",
              "1495   abc s good morning america ranks it the NUMBE...      1\n",
              "1496   hyperlink hyperlink hyperlink let mortgage le...      1\n",
              "1497   thank you for shopping with us gifts for all ...      1\n",
              "1498   the famous ebay marketing e course learn to s...      1\n",
              "1499   hello this is chinese traditional 子 件 NUMBER世...      1\n",
              "\n",
              "[1500 rows x 2 columns]"
            ]
          },
          "metadata": {
            "tags": []
          },
          "execution_count": 4
        }
      ]
    },
    {
      "cell_type": "code",
      "metadata": {
        "colab": {
          "base_uri": "https://localhost:8080/"
        },
        "id": "pSpcAjsEp8rL",
        "outputId": "2dbf673b-0047-4f73-df8c-a2d95694ded5"
      },
      "source": [
        "df['label'].value_counts()"
      ],
      "execution_count": 5,
      "outputs": [
        {
          "output_type": "execute_result",
          "data": {
            "text/plain": [
              "0    1000\n",
              "1     500\n",
              "Name: label, dtype: int64"
            ]
          },
          "metadata": {
            "tags": []
          },
          "execution_count": 5
        }
      ]
    },
    {
      "cell_type": "code",
      "metadata": {
        "colab": {
          "base_uri": "https://localhost:8080/"
        },
        "id": "DjJ0Ooq5T9kL",
        "outputId": "c4b90625-76cd-4684-845d-4ec7392dbb3a"
      },
      "source": [
        "#Check for missing values on email column\n",
        "df.isnull().sum()"
      ],
      "execution_count": 6,
      "outputs": [
        {
          "output_type": "execute_result",
          "data": {
            "text/plain": [
              "email    1\n",
              "label    0\n",
              "dtype: int64"
            ]
          },
          "metadata": {
            "tags": []
          },
          "execution_count": 6
        }
      ]
    },
    {
      "cell_type": "code",
      "metadata": {
        "colab": {
          "base_uri": "https://localhost:8080/",
          "height": 78
        },
        "id": "OgbqV5qDrWA7",
        "outputId": "39d32daa-e996-405c-e5d3-e480c7dffcc3"
      },
      "source": [
        "#Print the record with the missing value\n",
        "df.loc[df.email.isnull()]"
      ],
      "execution_count": 7,
      "outputs": [
        {
          "output_type": "execute_result",
          "data": {
            "text/html": [
              "<div>\n",
              "<style scoped>\n",
              "    .dataframe tbody tr th:only-of-type {\n",
              "        vertical-align: middle;\n",
              "    }\n",
              "\n",
              "    .dataframe tbody tr th {\n",
              "        vertical-align: top;\n",
              "    }\n",
              "\n",
              "    .dataframe thead th {\n",
              "        text-align: right;\n",
              "    }\n",
              "</style>\n",
              "<table border=\"1\" class=\"dataframe\">\n",
              "  <thead>\n",
              "    <tr style=\"text-align: right;\">\n",
              "      <th></th>\n",
              "      <th>email</th>\n",
              "      <th>label</th>\n",
              "    </tr>\n",
              "  </thead>\n",
              "  <tbody>\n",
              "    <tr>\n",
              "      <th>1466</th>\n",
              "      <td>NaN</td>\n",
              "      <td>1</td>\n",
              "    </tr>\n",
              "  </tbody>\n",
              "</table>\n",
              "</div>"
            ],
            "text/plain": [
              "     email  label\n",
              "1466   NaN      1"
            ]
          },
          "metadata": {
            "tags": []
          },
          "execution_count": 7
        }
      ]
    },
    {
      "cell_type": "code",
      "metadata": {
        "colab": {
          "base_uri": "https://localhost:8080/",
          "height": 108
        },
        "id": "PaVJujggBELp",
        "outputId": "0c243b57-0a10-42a1-e4d0-ec028d350f12"
      },
      "source": [
        "# Check for other records with a space on email column\n",
        "df.loc[df.email == ' ']"
      ],
      "execution_count": 8,
      "outputs": [
        {
          "output_type": "execute_result",
          "data": {
            "text/html": [
              "<div>\n",
              "<style scoped>\n",
              "    .dataframe tbody tr th:only-of-type {\n",
              "        vertical-align: middle;\n",
              "    }\n",
              "\n",
              "    .dataframe tbody tr th {\n",
              "        vertical-align: top;\n",
              "    }\n",
              "\n",
              "    .dataframe thead th {\n",
              "        text-align: right;\n",
              "    }\n",
              "</style>\n",
              "<table border=\"1\" class=\"dataframe\">\n",
              "  <thead>\n",
              "    <tr style=\"text-align: right;\">\n",
              "      <th></th>\n",
              "      <th>email</th>\n",
              "      <th>label</th>\n",
              "    </tr>\n",
              "  </thead>\n",
              "  <tbody>\n",
              "    <tr>\n",
              "      <th>1306</th>\n",
              "      <td></td>\n",
              "      <td>1</td>\n",
              "    </tr>\n",
              "    <tr>\n",
              "      <th>1328</th>\n",
              "      <td></td>\n",
              "      <td>1</td>\n",
              "    </tr>\n",
              "  </tbody>\n",
              "</table>\n",
              "</div>"
            ],
            "text/plain": [
              "     email  label\n",
              "1306            1\n",
              "1328            1"
            ]
          },
          "metadata": {
            "tags": []
          },
          "execution_count": 8
        }
      ]
    },
    {
      "cell_type": "code",
      "metadata": {
        "id": "777p63slyftl"
      },
      "source": [
        "# Replace the null value with a space\n",
        "df.fillna(value= ' ', inplace=True)"
      ],
      "execution_count": 9,
      "outputs": []
    },
    {
      "cell_type": "code",
      "metadata": {
        "colab": {
          "base_uri": "https://localhost:8080/"
        },
        "id": "ncPT1DvBUwtf",
        "outputId": "3dbc20fb-5fce-4fdf-ec91-836180744109"
      },
      "source": [
        "df.isnull().sum()"
      ],
      "execution_count": 10,
      "outputs": [
        {
          "output_type": "execute_result",
          "data": {
            "text/plain": [
              "email    0\n",
              "label    0\n",
              "dtype: int64"
            ]
          },
          "metadata": {
            "tags": []
          },
          "execution_count": 10
        }
      ]
    },
    {
      "cell_type": "code",
      "metadata": {
        "id": "nWgWESuMZ7r3"
      },
      "source": [
        "# Tokenize and tag the email text\n",
        "email_docs = [TaggedDocument(doc.split(' '), [i]) for i, doc in enumerate(df.email)]"
      ],
      "execution_count": 11,
      "outputs": []
    },
    {
      "cell_type": "code",
      "metadata": {
        "id": "9zHmSbasaDZx",
        "colab": {
          "base_uri": "https://localhost:8080/"
        },
        "outputId": "3d108292-98e1-479a-9367-d176252fc91b"
      },
      "source": [
        "# Display the first 10 tagged docs from the list\n",
        "email_docs[:10]"
      ],
      "execution_count": 12,
      "outputs": [
        {
          "output_type": "execute_result",
          "data": {
            "text/plain": [
              "[TaggedDocument(words=['', 'mike', 'bostock', 'said', 'received', 'from', 'trackingNUMBER', 'URL', 'NUMBER', 'NUMBER', 'NUMBER', 'NUMBER', 'by', 'URL', 'postfix', 'with', 'esmtp', 'id', 'NUMBERedNUMBER', 'for', 'mike', 'mydomain', 'co', 'uk', 'sun', 'NUMBER', 'sep', 'NUMBER', 'NUMBER', 'NUMBER', 'NUMBER', 'NUMBER', 'edt', 'x', 'mailer', 'roving', 'constant', 'contact', 'NUMBER', 'NUMBER', 'patchNUMBERc', 'pNUMBERc_schedenhancement_NUMBER_NUMBER_NUMBER', 'http', 'www', 'constantcontact', 'com', 'is', 'worthy', 'of', 'attention', 'and', 'a', 'rule', 'if', 'you', 'go', 'to', 'their', 'web', 'site', 'it', 'would', 'appear', 'that', 'they', 'are', 'in', 'the', 'business', 'of', 'email', 'mass', 'marketing', 'unfortunately', 'their', 'mailing', 'to', 'me', 'got', 'through', 'spamassassin', 'interesting', 'i', 'haven', 't', 'seen', 'anything', 'from', 'these', 'guys', 'in', 'about', 'a', 'year', 'but', 'looking', 'at', 'your', 'hdr', 'they', 're', 'still', 'doing', 'it', 'ok', 'come', 'up', 'with', 'an', 'x', 'mailer', 'rule', 'that', 'hits', 'your', 'mails', 'and', 'we', 'll', 'put', 'it', 'in', 'testing', 'j', 'this', 'URL', 'email', 'is', 'sponsored', 'by', 'thinkgeek', 'welcome', 'to', 'geek', 'heaven', 'URL', '_______________________________________________', 'spamassassin', 'talk', 'mailing', 'list', 'spamassassin', 'talk', 'URL', 'URL', ''], tags=[0]),\n",
              " TaggedDocument(words=['', 'no', 'i', 'was', 'just', 'a', 'little', 'confused', 'because', 'i', 'm', 'running', 'procmail', 'on', 'a', 'gateway', 'and', 'sits', 'between', 'the', 'external', 'sendmail', 'box', 'and', 'internal', 'exchange', 'bridgehead', 'server', 'so', 'there', 'isn', 't', 'any', 'delivery', 'to', 'the', 'local', 'system', 'the', 'only', 'email', 'it', 'gets', 'is', 'inbound', 'at', 'the', 'moment', 'and', 'we', 're', 'looking', 'to', 'get', 'rid', 'of', 'complication', 'and', 'go', 'back', 'to', 'two', 'boxes', 'i', 'did', 'a', 'test', 'which', 'looked', 'like', 'you', 'guys', 'are', 'right', 'about', 'procmail', 'but', 'testing', 'is', 'very', 'limited', 'due', 'to', 'the', 'config', 'i', 'currently', 'have', 'it', 's', 'just', 'confusing', 'when', 'set', 'up', 'as', 'a', 'gateway', 'jason', 'original', 'message', 'from', 'stephane', 'lentz', 'mailto', 'stephane', 'lentz', 'ansf', 'alcatel', 'fr', 'sent', 'monday', 'september', 'NUMBER', 'NUMBER', 'NUMBER', 'NUMBER', 'pm', 'to', 'spamassassin', 'talk', 'URL', 'subject', 're', 'satalk', 'separate', 'inbound', 'and', 'outbound', 'on', 'mon', 'sep', 'NUMBER', 'NUMBER', 'at', 'NUMBER', 'NUMBER', 'NUMBERpm', 'NUMBER', 'jason', 'qualkenbush', 'wrote', 'is', 'there', 'is', 'way', 'to', 'separate', 'inbound', 'and', 'outbound', 'email', 'so', 'that', 'i', 'only', 'check', 'for', 'spam', 'on', 'inbound', 'mail', 'and', 'ignore', 'the', 'outbound', 'i', 'm', 'using', 'sendmail', 'and', 'running', 'procmail', 'on', 'the', 'gateway', 'to', 'call', 'spamassassin', 'i', 'know', 'it', 'more', 'of', 'a', 'sendmail', 'question', 'but', 'my', 'google', 'searches', 'have', 'only', 'turned', 'up', 'people', 'trying', 'to', 'log', 'all', 'inbound', 'and', 'outbound', 'email', 'using', 'procmail', 'spamassassin', 'doesn', 't', 'get', 'called', 'for', 'outgoing', 'email', 'messages', 'sent', 'to', 'other', 'machines', 'procmail', 'local', 'delivery', 'agent', 'inbound', 'traffic', 'to', 'local', 'machine', 'sl', 'stephane', 'lentz', 'alcanet', 'international', 'internet', 'services', 'this', 'URL', 'email', 'is', 'sponsored', 'by', 'thinkgeek', 'welcome', 'to', 'geek', 'heaven', 'URL', '_______________________________________________', 'spamassassin', 'talk', 'mailing', 'list', 'spamassassin', 'talk', 'URL', 'URL', 'this', 'URL', 'email', 'is', 'sponsored', 'by', 'thinkgeek', 'welcome', 'to', 'geek', 'heaven', 'URL', '_______________________________________________', 'spamassassin', 'talk', 'mailing', 'list', 'spamassassin', 'talk', 'URL', 'URL', ''], tags=[1]),\n",
              " TaggedDocument(words=['this', 'is', 'just', 'an', 'semi', 'educated', 'guess', 'if', 'i', 'm', 'wrong', 'someone', 'please', 'correct', 'me', 'spamd', 'setuid', 's', 'to', 'the', 'user', 'running', 'spamc', 'since', 'you', 're', 'calling', 'spamc', 'from', 'a', 'global', 'procmailrc', 'file', 'it', 's', 'being', 'run', 'as', 'root', 'most', 'likely', 'if', 'called', 'as', 'root', 'spamd', 'won', 't', 'open', 'user_prefs', 'files', 'from', 'the', 'spamc', 'man', 'page', 'u', 'username', 'this', 'argument', 'has', 'been', 'semi', 'obsoleted', 'to', 'have', 'spamd', 'use', 'per', 'user', 'config', 'files', 'run', 'spamc', 'as', 'the', 'user', 'whose', 'config', 'files', 'spamd', 'should', 'load', 'if', 'you', 're', 'running', 'spamc', 'as', 'some', 'other', 'user', 'though', 'eg', 'root', 'mail', 'nobody', 'cyrus', 'etc', 'then', 'you', 'can', 'still', 'use', 'this', 'flag', 'the', 'solution', 'is', 'to', 'set', 'dropprivs', 'yes', 'in', 'etc', 'procmailrc', 'just', 'before', 'running', 'spamc', 'from', 'the', 'procmailrc', 'man', 'page', 'dropprivs', 'if', 'set', 'to', 'yes', 'procmail', 'will', 'drop', 'all', 'privileges', 'it', 'might', 'have', 'had', 'suid', 'or', 'sgid', 'this', 'is', 'only', 'useful', 'if', 'you', 'want', 'to', 'guarantee', 'that', 'the', 'bottom', 'half', 'of', 'the', 'etc', 'procmailrc', 'file', 'is', 'executed', 'on', 'behalf', 'of', 'the', 'recipient', 'i', 'hope', 'that', 'helps', 'and', 'i', 'also', 'hope', 'it', 's', 'right', 'st', 'original', 'message', 'from', 'spamassassin', 'talk', 'admin', 'URL', 'mailto', 'spamassassin', 'talk', 'admin', 'URL', 'on', 'behalf', 'of', 'cheryl', 'l', 'southard', 'sent', 'tuesday', 'september', 'NUMBER', 'NUMBER', 'NUMBER', 'NUMBER', 'pm', 'to', 'spamassassin', 'talk', 'URL', 'subject', 'satalk', 'user_prefs', 'ignored', 'hi', 'all', 'i', 'am', 'running', 'spamassassin', 'NUMBER', 'NUMBER', 'with', 'procmail', 'as', 'my', 'local', 'delivery', 'agent', 'with', 'sendmail', 'i', 'use', 'spamc', 'spamd', 'so', 'that', 'it', 'runs', 'site', 'wide', 'from', 'etc', 'procmailrc', 'spamd', 'is', 'run', 'as', 'root', 'with', 'the', 'flags', 'd', 'a', 'c', 'and', 'spamc', 'isn', 't', 'run', 'with', 'any', 'flags', 'when', 'i', 'was', 'testing', 'the', 'program', 'i', 'deployed', 'spamc', 'from', 'my', 'personal', 'procmailrc', 'file', 'my', 'spamassassin', 'user_prefs', 'file', 'was', 'read', 'each', 'time', 'i', 'can', 'see', 'this', 'because', 'i', 'have', 'a', 'non', 'default', 'required_hits', 'value', 'which', 'gets', 'reported', 'in', 'every', 'e', 'mail', 'on', 'the', 'x', 'spam', 'status', 'line', 'now', 'that', 'i', 'run', 'spamc', 'from', 'the', 'global', 'etc', 'procmailrc', 'file', 'my', 'spamassassin', 'user_prefs', 'file', 'is', 'no', 'longer', 'being', 'read', 'or', 'processed', 'from', 'e', 'mails', 'from', 'outside', 'computers', 'the', 'required_hits', 'value', 'gets', 'set', 'back', 'to', 'the', 'one', 'in', 'etc', 'mail', 'spamassassin', 'local', 'cf', 'however', 'if', 'i', 'send', 'local', 'e', 'mail', 'my', 'user_prefs', 'file', 'is', 'read', 'and', 'processed', 'correctly', 'does', 'anyone', 'know', 'how', 'to', 'fix', 'this', 'problem', 'if', 'this', 'is', 'a', 'spamassassin', 'or', 'procmail', 'bug', 'thanks', 'cheryl', 'cheryl', 'southard', 'cld', 'URL', 'this', 'URL', 'email', 'is', 'sponsored', 'by', 'thinkgeek', 'welcome', 'to', 'geek', 'heaven', 'URL', '_______________________________________________', 'spamassassin', 'talk', 'mailing', 'list', 'spamassassin', 'talk', 'URL', 'URL', 'this', 'URL', 'email', 'is', 'sponsored', 'by', 'thinkgeek', 'welcome', 'to', 'geek', 'heaven', 'URL', '_______________________________________________', 'spamassassin', 'talk', 'mailing', 'list', 'spamassassin', 'talk', 'URL', 'URL', ''], tags=[2]),\n",
              " TaggedDocument(words=['jm', 'URL', 'justin', 'mason', 'writes', 'except', 'for', 'NUMBER', 'thing', 'defanged', 'mime', 'messages', 'that', 's', 'a', 'big', 'problem', 'but', 'if', 'you', 'didn', 't', 'just', 'remove', 'the', 'headers', 'and', 'instead', 'reverted', 'back', 'to', 'the', 'x', 'spam', 'prev', 'versions', 'it', 'd', 'more', 'or', 'less', 'work', 'btw', 'fixed', 'the', 'downloads', 'page', 'check', 'now', 'un', 'defangs', 'mime', 'it', 'was', 'screwing', 'up', 'some', 'of', 'my', 'mass', 'check', 'results', 'where', 'sa', 'markup', 'was', 'present', 'yes', 'if', 'there', 'ever', 'was', 'a', 'warning', 'about', 'sa', 'markup', 'in', 'mass', 'check', 'it', 'never', 'worked', 'for', 'me', 'dan', ''], tags=[3]),\n",
              " TaggedDocument(words=['i', 'just', 'picked', 'up', 'razor', 'sdk', 'NUMBER', 'NUMBER', 'and', 'NUMBER', 'NUMBER', 'agents', 'from', 'the', 'the', 'razor', 'site', 'i', 'am', 'using', 'suse', 'NUMBER', 'NUMBER', 'intalled', 'sdk', 'with', 'no', 'problems', 'all', 'tests', 'passed', 'when', 'i', 'try', 'to', 'make', 'the', 'NUMBER', 'NUMBER', 'agents', 'i', 'get', 'all', 'kinds', 'of', 'errors', 'in', 'particuliar', 'it', 'says', 'the', 'net', 'dns', 'is', 'missing', 'but', 'it', 'seems', 'to', 'be', 'there', 'the', 'sdk', 'test', 'passes', 'it', 'any', 'help', 'would', 'be', 'appreciated', 'doug', 'this', 'URL', 'email', 'is', 'sponsored', 'by', 'thinkgeek', 'welcome', 'to', 'geek', 'heaven', 'URL', '_______________________________________________', 'spamassassin', 'talk', 'mailing', 'list', 'spamassassin', 'talk', 'URL', 'URL', ''], tags=[4]),\n",
              " TaggedDocument(words=['on', 'sep', 'NUMBER', 'NUMBER', 'NUMBERpm', 'daniel', 'quinlan', 'wrote', 'allen', 'smith', 'easmith', 'beatrice', 'rutgers', 'edu', 'writes', 'well', 'i', 'have', 'been', 'doing', 'a', 'bit', 'of', 'fiddling', 'with', 'the', 'ga', 'i', 'don', 't', 'have', 'a', '_large_', 'corpus', 'practically', 'available', 'to', 'me', 'or', 'processable', 'within', 'reasonable', 'processor', 'time', 'i', 'can', 'justify', 'the', 'ga', 'fiddling', 'part', 'as', 'being', 'part', 'of', 'my', 'research', 'but', 'not', 'the', 'mail', 'processing', 'so', 'in', 'order', 'to', 'test', 'out', 'my', 'changes', 'someone', 'needs', 'to', 'send', 'me', 'a', 'copy', 'of', 'the', 'tmp', 'scores', 'h', 'and', 'tmp', 'tests', 'h', 'that', 'get', 'generated', 'prior', 'to', 'the', 'ga', 'going', 'into', 'action', 'why', 'not', 'start', 'with', 'mass', 'check', 'corpus', 'results', 'it', 's', 'much', 'easier', 'to', 'get', 'those', 'ah', 'as', 'in', 'getting', 'a', 'directory', 'listing', 'of', 'the', 'corpus', 'server', 'and', 'doing', 'some', 'downloads', 'ok', 'done', 'and', 'you', 'can', 'create', 'your', 'own', 'tmp', 'scores', 'h', 'and', 'tmp', 'tests', 'h', 'good', 'point', 'will', 'report', 'back', 'on', 'my', 'results', 'allen', 'allen', 'smith', 'URL', 'september', 'NUMBER', 'NUMBER', 'a', 'day', 'that', 'shall', 'live', 'in', 'infamy', 'ii', 'they', 'that', 'can', 'give', 'up', 'essential', 'liberty', 'to', 'obtain', 'a', 'little', 'temporary', 'safety', 'deserve', 'neither', 'liberty', 'nor', 'safety', 'benjamin', 'franklin', ''], tags=[5]),\n",
              " TaggedDocument(words=['unable', 'to', 'find', 'user', 'matt_relay', 'sbcglobal', 'net', 'please', 'make', 'sure', 'the', 'address', 'is', 'correct', 'and', 'resend', 'your', 'mail', ''], tags=[6]),\n",
              " TaggedDocument(words=['', 'spamtalk', 'said', 'probably', 'better', 'than', 'the', 'spam', 'phrases', 'approach', 'would', 'be', 'the', 'database', 'approach', 'as', 'currently', 'used', 'for', 'white', 'black', 'listing', 'any', 'way', 'to', 'tie', 'that', 'to', 'an', 'xml', 'retrieval', 'from', 'a', 'list', 'of', 'central', 'repositories', 'does', 'mysql', 'do', 'replication', 'a', 'properly', 'done', 'xml', 'would', 'let', 'us', 'eyeball', 'the', 'list', 'as', 'well', 'as', 'use', 'it', 'to', 'keep', 'the', 'database', 'up', 'to', 'date', 'another', 'idea', 'could', 'we', 'synthesize', 'an', 'rbl', 'so', 'that', 'URL', 'becomes', 'URL', 'for', 'a', 'reverse', 'lookup', 'it', 'is', 'going', 'to', 'get', 'tricky', 'how', 'to', 'specify', 'a', 'randomized', 'intermediate', 'directory', 'a', 'good', 'plan', 'needs', 'an', 'implementation', 'though', 'URL', 'hmm', 'seems', 'down', 'to', 'me', 'basically', 'it', 's', 'a', 'plan', 'to', 'store', 'hash', 'sums', 'of', 'urls', 'phone', 'numbers', 'found', 'in', 'spam', 'in', 'a', 'dnsbl', 'for', 'apps', 'like', 'spamassassin', 'to', 'look', 'up', 'a', 'little', 'like', 'spamcop', 's', 'spamvertized', 'url', 'list', 'j', 'this', 'URL', 'email', 'is', 'sponsored', 'by', 'dedicated', 'servers', 'only', 'NUMBER', 'linux', 'or', 'freebsd', 'free', 'setup', 'fast', 'network', 'get', 'your', 'own', 'server', 'today', 'at', 'URL', '_______________________________________________', 'spamassassin', 'talk', 'mailing', 'list', 'spamassassin', 'talk', 'URL', 'URL', ''], tags=[7]),\n",
              " TaggedDocument(words=['on', 'sun', 'sep', 'NUMBER', 'NUMBER', 'at', 'NUMBER', 'NUMBER', 'NUMBERpm', 'NUMBER', 'justin', 'mason', 'wrote', 'i', 'seem', 'to', 'be', 'getting', 'a', 'lot', 'of', 'spam', 'relayed', 'via', 'these', 'guys', 'recently', 'can', 'others', 'confirm', 'this', 'if', 'it', 's', 'the', 'case', 'i', 'll', 'come', 'up', 'with', 'a', 'forged', 'hostname', 'test', 'for', 'it', 'i', 'do', 'get', 'some', 'from', 'them', 'typically', 'some', 'URL', 'host', 'grep', 'c', 'URL', 'sort', 'rn', 'spammers', 'NUMBER', 'NUMBER', 'NUMBER', 'spammers', 'NUMBER', 'NUMBER', 'NUMBER', 'spammers', 'NUMBER', 'NUMBER', 'NUMBER', 'spammers', 'NUMBER', 'NUMBER', 'NUMBER', 'spammers', 'NUMBER', 'NUMBER', 'NUMBER', 'spammers', 'NUMBER', 'NUMBER', 'NUMBER', 'definitely', 'increasing', 'per', 'month', 'percentage', 'wise', 'NUMBER', 'NUMBER', 'has', 'NUMBER', 'spams', 'in', 'it', 'so', 'NUMBER', 'NUMBER', 'is', 'about', 'NUMBER', 'NUMBER', 'last', 'month', 'was', 'NUMBER', 'NUMBER', 'randomly', 'generated', 'tagline', 'i', 'don', 't', 'believe', 'i', 've', 'ever', 'cuddled', 'my', 'elses', 'larry', 'wall', 'in', 'NUMBER', 'iaaNUMBER', 'wall', 'org', ''], tags=[8]),\n",
              " TaggedDocument(words=['jm', 'URL', 'justin', 'mason', 'writes', 'yes', 'NUMBER', 'of', 'the', 'entire', 'set', 'for', 'training', 'and', 'NUMBER', 'for', 'evaluation', 'once', 'you', 've', 'settled', 'on', 'the', 'final', 'method', 'for', 'any', 'one', 'release', 'why', 'not', 'use', 'NUMBER', 'of', 'the', 'data', 'for', 'a', 'final', 'run', 'dan', ''], tags=[9])]"
            ]
          },
          "metadata": {
            "tags": []
          },
          "execution_count": 12
        }
      ]
    },
    {
      "cell_type": "code",
      "metadata": {
        "id": "lnHVNd1GaKwi"
      },
      "source": [
        "# Instantiate model\n",
        "vector_size = 64\n",
        "doc_model = Doc2Vec(vector_size=vector_size, window=2, min_count=1, workers=8, epochs = 40)"
      ],
      "execution_count": 13,
      "outputs": []
    },
    {
      "cell_type": "code",
      "metadata": {
        "id": "9bAUXcWCak3U"
      },
      "source": [
        "# Build vocab\n",
        "doc_model.build_vocab(email_docs)"
      ],
      "execution_count": 14,
      "outputs": []
    },
    {
      "cell_type": "code",
      "metadata": {
        "id": "qt2PnXvhaqe6"
      },
      "source": [
        "# Train model\n",
        "doc_model.train(email_docs, total_examples=doc_model.corpus_count, epochs=doc_model.epochs)"
      ],
      "execution_count": 15,
      "outputs": []
    },
    {
      "cell_type": "code",
      "metadata": {
        "id": "4xIxn5mtatwC"
      },
      "source": [
        "# View vocab\n",
        "# doc_model.wv.vocab"
      ],
      "execution_count": 16,
      "outputs": []
    },
    {
      "cell_type": "code",
      "metadata": {
        "id": "YxfkacnIoq8t",
        "colab": {
          "base_uri": "https://localhost:8080/"
        },
        "outputId": "28c0f6f8-3ee2-43f1-c45c-0486ac16eeea"
      },
      "source": [
        "# Generate vectors\n",
        "email_vectors = [doc_model.infer_vector((df['email'][i].split(' '))) for i in range(0,len(df['email']))]\n",
        "email_vectors[:2]"
      ],
      "execution_count": 17,
      "outputs": [
        {
          "output_type": "execute_result",
          "data": {
            "text/plain": [
              "[array([ 0.6010985 , -1.445029  , -0.16186191,  1.0612811 , -0.58350646,\n",
              "        -1.2259481 ,  0.5064377 , -1.6173826 , -0.25953063, -1.0307313 ,\n",
              "        -1.3866234 ,  0.07282555,  0.26843047,  1.5014613 ,  0.5833634 ,\n",
              "         0.50376004,  0.13947655, -0.352982  , -1.0974514 , -0.25856692,\n",
              "        -0.9894913 ,  0.34899315,  0.4497912 ,  0.66910994,  1.9218479 ,\n",
              "        -0.9232643 ,  0.10497548,  1.4320832 , -0.39797762,  0.27164787,\n",
              "        -2.0532255 ,  0.6348793 ,  0.79184985, -0.93727726,  0.9954852 ,\n",
              "        -1.559333  , -0.16966285,  0.3010086 , -0.03360482,  0.7117597 ,\n",
              "        -0.364054  ,  0.190926  ,  0.22260152, -0.32518113,  0.37142128,\n",
              "         0.80847174,  1.1384944 ,  0.07250781, -0.6923209 , -0.37938485,\n",
              "         0.5924668 , -0.11532009,  0.47215703, -1.9568813 , -0.3574529 ,\n",
              "         1.1174883 , -1.2580827 ,  0.6320671 ,  0.19226469,  0.6453546 ,\n",
              "         0.18980716, -0.22566453, -0.8164529 ,  0.16002099], dtype=float32),\n",
              " array([ 0.7808726 , -1.944488  , -0.64020765, -0.4961425 ,  0.19080639,\n",
              "        -1.4492724 , -0.82466966, -0.4398389 , -0.7610096 , -1.4382435 ,\n",
              "         0.10271392, -1.28225   , -2.0045075 ,  1.9734845 ,  0.68630016,\n",
              "        -0.20361377, -0.992873  , -3.4939232 ,  0.09810363, -2.5583413 ,\n",
              "        -0.74687654,  1.0652888 , -1.2942766 ,  1.0184984 ,  2.1027992 ,\n",
              "        -1.37777   , -2.4484386 ,  0.05953525, -0.2251609 , -0.42451295,\n",
              "        -0.85440665,  1.2332276 , -0.34680492, -1.0828925 , -1.3409501 ,\n",
              "        -0.90676063, -2.6995952 , -0.3200754 , -1.7090648 ,  0.83485454,\n",
              "         0.37166846,  1.3915342 ,  0.50229347,  0.5781691 ,  1.3637604 ,\n",
              "         0.43328938, -1.697145  ,  0.37613153, -1.0863359 , -0.5675921 ,\n",
              "         1.7384874 ,  1.9370844 , -1.1422437 , -1.0166367 , -0.6325805 ,\n",
              "        -1.4616832 , -2.3152034 , -0.11757067,  0.27073792,  0.9535129 ,\n",
              "        -0.5641822 , -1.0818099 ,  1.243519  , -0.58812237], dtype=float32)]"
            ]
          },
          "metadata": {
            "tags": []
          },
          "execution_count": 17
        }
      ]
    },
    {
      "cell_type": "code",
      "metadata": {
        "id": "AxLbXoqjbkQC",
        "colab": {
          "base_uri": "https://localhost:8080/",
          "height": 198
        },
        "outputId": "9a017157-5d27-47fb-deb0-1afe40f5de5b"
      },
      "source": [
        "# Create a list of lists\n",
        "dtv= np.array(email_vectors).tolist()\n",
        "#set list to dataframe column\n",
        "df['email_vectors'] = dtv\n",
        "df.head()"
      ],
      "execution_count": 18,
      "outputs": [
        {
          "output_type": "execute_result",
          "data": {
            "text/html": [
              "<div>\n",
              "<style scoped>\n",
              "    .dataframe tbody tr th:only-of-type {\n",
              "        vertical-align: middle;\n",
              "    }\n",
              "\n",
              "    .dataframe tbody tr th {\n",
              "        vertical-align: top;\n",
              "    }\n",
              "\n",
              "    .dataframe thead th {\n",
              "        text-align: right;\n",
              "    }\n",
              "</style>\n",
              "<table border=\"1\" class=\"dataframe\">\n",
              "  <thead>\n",
              "    <tr style=\"text-align: right;\">\n",
              "      <th></th>\n",
              "      <th>email</th>\n",
              "      <th>label</th>\n",
              "      <th>email_vectors</th>\n",
              "    </tr>\n",
              "  </thead>\n",
              "  <tbody>\n",
              "    <tr>\n",
              "      <th>0</th>\n",
              "      <td>mike bostock said received from trackingNUMBE...</td>\n",
              "      <td>0</td>\n",
              "      <td>[0.6010984778404236, -1.4450290203094482, -0.1...</td>\n",
              "    </tr>\n",
              "    <tr>\n",
              "      <th>1</th>\n",
              "      <td>no i was just a little confused because i m r...</td>\n",
              "      <td>0</td>\n",
              "      <td>[0.7808725833892822, -1.9444880485534668, -0.6...</td>\n",
              "    </tr>\n",
              "    <tr>\n",
              "      <th>2</th>\n",
              "      <td>this is just an semi educated guess if i m wro...</td>\n",
              "      <td>0</td>\n",
              "      <td>[0.897255003452301, -2.0220112800598145, 0.650...</td>\n",
              "    </tr>\n",
              "    <tr>\n",
              "      <th>3</th>\n",
              "      <td>jm URL justin mason writes except for NUMBER t...</td>\n",
              "      <td>0</td>\n",
              "      <td>[0.3028466999530792, -1.936866044998169, 0.484...</td>\n",
              "    </tr>\n",
              "    <tr>\n",
              "      <th>4</th>\n",
              "      <td>i just picked up razor sdk NUMBER NUMBER and N...</td>\n",
              "      <td>0</td>\n",
              "      <td>[0.5954515933990479, -2.9760890007019043, -1.3...</td>\n",
              "    </tr>\n",
              "  </tbody>\n",
              "</table>\n",
              "</div>"
            ],
            "text/plain": [
              "                                               email  ...                                      email_vectors\n",
              "0   mike bostock said received from trackingNUMBE...  ...  [0.6010984778404236, -1.4450290203094482, -0.1...\n",
              "1   no i was just a little confused because i m r...  ...  [0.7808725833892822, -1.9444880485534668, -0.6...\n",
              "2  this is just an semi educated guess if i m wro...  ...  [0.897255003452301, -2.0220112800598145, 0.650...\n",
              "3  jm URL justin mason writes except for NUMBER t...  ...  [0.3028466999530792, -1.936866044998169, 0.484...\n",
              "4  i just picked up razor sdk NUMBER NUMBER and N...  ...  [0.5954515933990479, -2.9760890007019043, -1.3...\n",
              "\n",
              "[5 rows x 3 columns]"
            ]
          },
          "metadata": {
            "tags": []
          },
          "execution_count": 18
        }
      ]
    },
    {
      "cell_type": "code",
      "metadata": {
        "id": "vbU0U_MS5eTD"
      },
      "source": [
        "# Create model input array and expected output vector\n",
        "X = email_vectors\n",
        "y = df['label']"
      ],
      "execution_count": 19,
      "outputs": []
    },
    {
      "cell_type": "code",
      "metadata": {
        "id": "XkZvGLUrDL_L"
      },
      "source": [
        "# Tranform array and vector to np array of type float32 to be compatiable with the model\n",
        "X = np.asarray(X).astype(np.float32)\n",
        "y = np.asarray(y).astype(np.float32)"
      ],
      "execution_count": 20,
      "outputs": []
    },
    {
      "cell_type": "code",
      "metadata": {
        "colab": {
          "base_uri": "https://localhost:8080/"
        },
        "id": "4FGu2XxHFhg8",
        "outputId": "c76cb8b9-bd8e-4efd-88da-fff08b5b9e8c"
      },
      "source": [
        "X.shape"
      ],
      "execution_count": 21,
      "outputs": [
        {
          "output_type": "execute_result",
          "data": {
            "text/plain": [
              "(1500, 64)"
            ]
          },
          "metadata": {
            "tags": []
          },
          "execution_count": 21
        }
      ]
    },
    {
      "cell_type": "code",
      "metadata": {
        "colab": {
          "base_uri": "https://localhost:8080/"
        },
        "id": "eGzbxy5_IrKy",
        "outputId": "d2ccb33e-256d-4b95-ca40-f6086611f9bf"
      },
      "source": [
        "y.shape"
      ],
      "execution_count": 22,
      "outputs": [
        {
          "output_type": "execute_result",
          "data": {
            "text/plain": [
              "(1500,)"
            ]
          },
          "metadata": {
            "tags": []
          },
          "execution_count": 22
        }
      ]
    },
    {
      "cell_type": "code",
      "metadata": {
        "id": "nulgLvTHcxB_"
      },
      "source": [
        "#  Train test split\n",
        "X_train, X_test, y_train, y_test = train_test_split( X, y, test_size=0.25, random_state=42)"
      ],
      "execution_count": 23,
      "outputs": []
    },
    {
      "cell_type": "code",
      "metadata": {
        "id": "AUT9SBVrc-Nz"
      },
      "source": [
        "# Define keras model\n",
        "model_0 = Sequential()\n",
        "model_0.add(Dense(30, input_dim=vector_size, activation='relu'))\n",
        "model_0.add(Dense(1, activation='sigmoid'))"
      ],
      "execution_count": 24,
      "outputs": []
    },
    {
      "cell_type": "code",
      "metadata": {
        "colab": {
          "base_uri": "https://localhost:8080/"
        },
        "id": "njmpwannR_n0",
        "outputId": "da992f05-cbf2-435c-8f73-ab816479e247"
      },
      "source": [
        "model_0.compile(loss='binary_crossentropy', optimizer='adam', metrics=['accuracy'])\n",
        "history_0 = model_0.fit(X_train, y_train, epochs=20,\n",
        "          validation_split=0.2,\n",
        "          )"
      ],
      "execution_count": 25,
      "outputs": [
        {
          "output_type": "stream",
          "text": [
            "Epoch 1/20\n",
            "29/29 [==============================] - 13s 18ms/step - loss: 0.7463 - accuracy: 0.5503 - val_loss: 0.4916 - val_accuracy: 0.8044\n",
            "Epoch 2/20\n",
            "29/29 [==============================] - 0s 2ms/step - loss: 0.4364 - accuracy: 0.8187 - val_loss: 0.3737 - val_accuracy: 0.8711\n",
            "Epoch 3/20\n",
            "29/29 [==============================] - 0s 2ms/step - loss: 0.3347 - accuracy: 0.8870 - val_loss: 0.3179 - val_accuracy: 0.8844\n",
            "Epoch 4/20\n",
            "29/29 [==============================] - 0s 2ms/step - loss: 0.2664 - accuracy: 0.9276 - val_loss: 0.2830 - val_accuracy: 0.8889\n",
            "Epoch 5/20\n",
            "29/29 [==============================] - 0s 2ms/step - loss: 0.2558 - accuracy: 0.9339 - val_loss: 0.2653 - val_accuracy: 0.8933\n",
            "Epoch 6/20\n",
            "29/29 [==============================] - 0s 2ms/step - loss: 0.2181 - accuracy: 0.9281 - val_loss: 0.2413 - val_accuracy: 0.8889\n",
            "Epoch 7/20\n",
            "29/29 [==============================] - 0s 2ms/step - loss: 0.2046 - accuracy: 0.9360 - val_loss: 0.2278 - val_accuracy: 0.8889\n",
            "Epoch 8/20\n",
            "29/29 [==============================] - 0s 2ms/step - loss: 0.1856 - accuracy: 0.9478 - val_loss: 0.2173 - val_accuracy: 0.8978\n",
            "Epoch 9/20\n",
            "29/29 [==============================] - 0s 3ms/step - loss: 0.1969 - accuracy: 0.9327 - val_loss: 0.2118 - val_accuracy: 0.9111\n",
            "Epoch 10/20\n",
            "29/29 [==============================] - 0s 2ms/step - loss: 0.1776 - accuracy: 0.9480 - val_loss: 0.1988 - val_accuracy: 0.9111\n",
            "Epoch 11/20\n",
            "29/29 [==============================] - 0s 2ms/step - loss: 0.1752 - accuracy: 0.9418 - val_loss: 0.1963 - val_accuracy: 0.9067\n",
            "Epoch 12/20\n",
            "29/29 [==============================] - 0s 3ms/step - loss: 0.1484 - accuracy: 0.9613 - val_loss: 0.1916 - val_accuracy: 0.9156\n",
            "Epoch 13/20\n",
            "29/29 [==============================] - 0s 2ms/step - loss: 0.1316 - accuracy: 0.9677 - val_loss: 0.1889 - val_accuracy: 0.9200\n",
            "Epoch 14/20\n",
            "29/29 [==============================] - 0s 2ms/step - loss: 0.1451 - accuracy: 0.9572 - val_loss: 0.1951 - val_accuracy: 0.9156\n",
            "Epoch 15/20\n",
            "29/29 [==============================] - 0s 2ms/step - loss: 0.1458 - accuracy: 0.9555 - val_loss: 0.1861 - val_accuracy: 0.9156\n",
            "Epoch 16/20\n",
            "29/29 [==============================] - 0s 2ms/step - loss: 0.1295 - accuracy: 0.9593 - val_loss: 0.1842 - val_accuracy: 0.9200\n",
            "Epoch 17/20\n",
            "29/29 [==============================] - 0s 2ms/step - loss: 0.1327 - accuracy: 0.9621 - val_loss: 0.1813 - val_accuracy: 0.9200\n",
            "Epoch 18/20\n",
            "29/29 [==============================] - 0s 2ms/step - loss: 0.1374 - accuracy: 0.9540 - val_loss: 0.1820 - val_accuracy: 0.9156\n",
            "Epoch 19/20\n",
            "29/29 [==============================] - 0s 2ms/step - loss: 0.1252 - accuracy: 0.9591 - val_loss: 0.1793 - val_accuracy: 0.9244\n",
            "Epoch 20/20\n",
            "29/29 [==============================] - 0s 2ms/step - loss: 0.1279 - accuracy: 0.9593 - val_loss: 0.1801 - val_accuracy: 0.9156\n"
          ],
          "name": "stdout"
        }
      ]
    },
    {
      "cell_type": "code",
      "metadata": {
        "id": "ZcD0caBcHNpe"
      },
      "source": [
        "# evaluate the model\n",
        "_, train_acc = model_0.evaluate(X_train, y_train, verbose=0)\n",
        "_, test_acc = model_0.evaluate(X_test, y_test, verbose=0)"
      ],
      "execution_count": 26,
      "outputs": []
    },
    {
      "cell_type": "code",
      "metadata": {
        "colab": {
          "base_uri": "https://localhost:8080/"
        },
        "id": "5IMMitLI_Hy-",
        "outputId": "44318650-d80e-42b0-80fc-9200c303e1e8"
      },
      "source": [
        "print('Train: %.3f, Test: %.3f' % (train_acc, test_acc))"
      ],
      "execution_count": 27,
      "outputs": [
        {
          "output_type": "stream",
          "text": [
            "Train: 0.956, Test: 0.947\n"
          ],
          "name": "stdout"
        }
      ]
    },
    {
      "cell_type": "code",
      "metadata": {
        "colab": {
          "base_uri": "https://localhost:8080/",
          "height": 281
        },
        "id": "jVqjcJSgHZx5",
        "outputId": "f0290744-8e9b-447f-93ca-06aeb14ceca1"
      },
      "source": [
        "# plot training accuracy\n",
        "pyplot.plot(history_0.history['accuracy'], label='train')\n",
        "pyplot.plot(history_0.history['val_accuracy'], label='validation')\n",
        "pyplot.legend()\n",
        "pyplot.title(\"Training Accuracy\")\n",
        "pyplot.show()"
      ],
      "execution_count": 39,
      "outputs": [
        {
          "output_type": "display_data",
          "data": {
            "image/png": "[encoded data removed]",
            "text/plain": [
              "<Figure size 432x288 with 1 Axes>"
            ]
          },
          "metadata": {
            "tags": [],
            "needs_background": "light"
          }
        }
      ]
    },
    {
      "cell_type": "code",
      "metadata": {
        "colab": {
          "base_uri": "https://localhost:8080/",
          "height": 281
        },
        "id": "-E6X-Ceg_LX0",
        "outputId": "12894ee3-6c97-42e3-a57e-fbd11ffdd308"
      },
      "source": [
        "# plot training loss\n",
        "pyplot.plot(history_0.history['loss'], label='train')\n",
        "pyplot.plot(history_0.history['val_loss'], label='validation')\n",
        "pyplot.legend()\n",
        "pyplot.title(\"Training Loss\")\n",
        "pyplot.show()"
      ],
      "execution_count": 40,
      "outputs": [
        {
          "output_type": "display_data",
          "data": {
            "image/png": "[encoded data removed]",
            "text/plain": [
              "<Figure size 432x288 with 1 Axes>"
            ]
          },
          "metadata": {
            "tags": [],
            "needs_background": "light"
          }
        }
      ]
    },
    {
      "cell_type": "code",
      "metadata": {
        "colab": {
          "base_uri": "https://localhost:8080/"
        },
        "id": "QU2wu4s4XsTO",
        "outputId": "7602160a-300f-49d6-d5e6-91b670d2b7a2"
      },
      "source": [
        "y_pred = model_0.predict (X_test).round()\n",
        "print(classification_report(y_test, y_pred))"
      ],
      "execution_count": 30,
      "outputs": [
        {
          "output_type": "stream",
          "text": [
            "              precision    recall  f1-score   support\n",
            "\n",
            "         0.0       0.93      0.99      0.96       240\n",
            "         1.0       0.98      0.87      0.92       135\n",
            "\n",
            "    accuracy                           0.95       375\n",
            "   macro avg       0.96      0.93      0.94       375\n",
            "weighted avg       0.95      0.95      0.95       375\n",
            "\n"
          ],
          "name": "stdout"
        }
      ]
    },
    {
      "cell_type": "code",
      "metadata": {
        "id": "zKEoy-ysAhAg"
      },
      "source": [
        ""
      ],
      "execution_count": 30,
      "outputs": []
    },
    {
      "cell_type": "code",
      "metadata": {
        "id": "LHtI7dEDdWyw"
      },
      "source": [
        "# Define the keras model\n",
        "model = Sequential()\n",
        "model.add(Dense(30, input_dim=vector_size, activation='relu'))\n",
        "model.add(Dense(15, activation='relu'))\n",
        "model.add(Dense(1, activation='sigmoid'))"
      ],
      "execution_count": 80,
      "outputs": []
    },
    {
      "cell_type": "code",
      "metadata": {
        "id": "SOAlM5DoDPmm"
      },
      "source": [
        "#Early stopping monitor\n",
        "monitor = EarlyStopping(\n",
        "                        monitor = 'val_loss',\n",
        "                        min_delta = 1e-3,\n",
        "                        patience=15,\n",
        "                        restore_best_weights=True\n",
        "                        )"
      ],
      "execution_count": 81,
      "outputs": []
    },
    {
      "cell_type": "code",
      "metadata": {
        "id": "Khx5qvXadXTa"
      },
      "source": [
        "model.compile(loss='binary_crossentropy', optimizer=\"adam\", metrics=['accuracy'])"
      ],
      "execution_count": 82,
      "outputs": []
    },
    {
      "cell_type": "code",
      "metadata": {
        "colab": {
          "base_uri": "https://localhost:8080/"
        },
        "id": "Mt93hmfrdXga",
        "outputId": "ac732c2a-25de-44aa-ac87-d3b48e07f8b1"
      },
      "source": [
        "\n",
        "history = model.fit(X_train, y_train, epochs=50,\n",
        "          validation_split=0.2,\n",
        "          batch_size=32,\n",
        "          callbacks=[monitor]\n",
        "          )\n"
      ],
      "execution_count": 83,
      "outputs": [
        {
          "output_type": "stream",
          "text": [
            "Epoch 1/50\n",
            "29/29 [==============================] - 1s 11ms/step - loss: 0.6805 - accuracy: 0.6071 - val_loss: 0.6282 - val_accuracy: 0.7111\n",
            "Epoch 2/50\n",
            "29/29 [==============================] - 0s 2ms/step - loss: 0.5796 - accuracy: 0.7502 - val_loss: 0.5240 - val_accuracy: 0.8222\n",
            "Epoch 3/50\n",
            "29/29 [==============================] - 0s 2ms/step - loss: 0.4858 - accuracy: 0.8474 - val_loss: 0.4103 - val_accuracy: 0.8800\n",
            "Epoch 4/50\n",
            "29/29 [==============================] - 0s 2ms/step - loss: 0.3860 - accuracy: 0.8799 - val_loss: 0.3232 - val_accuracy: 0.8978\n",
            "Epoch 5/50\n",
            "29/29 [==============================] - 0s 2ms/step - loss: 0.2731 - accuracy: 0.9171 - val_loss: 0.2664 - val_accuracy: 0.9067\n",
            "Epoch 6/50\n",
            "29/29 [==============================] - 0s 3ms/step - loss: 0.2242 - accuracy: 0.9308 - val_loss: 0.2343 - val_accuracy: 0.9022\n",
            "Epoch 7/50\n",
            "29/29 [==============================] - 0s 2ms/step - loss: 0.2003 - accuracy: 0.9402 - val_loss: 0.2096 - val_accuracy: 0.9067\n",
            "Epoch 8/50\n",
            "29/29 [==============================] - 0s 2ms/step - loss: 0.1702 - accuracy: 0.9380 - val_loss: 0.1940 - val_accuracy: 0.9244\n",
            "Epoch 9/50\n",
            "29/29 [==============================] - 0s 2ms/step - loss: 0.1630 - accuracy: 0.9484 - val_loss: 0.1851 - val_accuracy: 0.9244\n",
            "Epoch 10/50\n",
            "29/29 [==============================] - 0s 3ms/step - loss: 0.1797 - accuracy: 0.9307 - val_loss: 0.1850 - val_accuracy: 0.9200\n",
            "Epoch 11/50\n",
            "29/29 [==============================] - 0s 2ms/step - loss: 0.1272 - accuracy: 0.9527 - val_loss: 0.1697 - val_accuracy: 0.9333\n",
            "Epoch 12/50\n",
            "29/29 [==============================] - 0s 3ms/step - loss: 0.1046 - accuracy: 0.9640 - val_loss: 0.1652 - val_accuracy: 0.9422\n",
            "Epoch 13/50\n",
            "29/29 [==============================] - 0s 2ms/step - loss: 0.1075 - accuracy: 0.9682 - val_loss: 0.1625 - val_accuracy: 0.9422\n",
            "Epoch 14/50\n",
            "29/29 [==============================] - 0s 3ms/step - loss: 0.1179 - accuracy: 0.9511 - val_loss: 0.1664 - val_accuracy: 0.9378\n",
            "Epoch 15/50\n",
            "29/29 [==============================] - 0s 2ms/step - loss: 0.1253 - accuracy: 0.9538 - val_loss: 0.1603 - val_accuracy: 0.9422\n",
            "Epoch 16/50\n",
            "29/29 [==============================] - 0s 2ms/step - loss: 0.1162 - accuracy: 0.9596 - val_loss: 0.1549 - val_accuracy: 0.9467\n",
            "Epoch 17/50\n",
            "29/29 [==============================] - 0s 3ms/step - loss: 0.1013 - accuracy: 0.9712 - val_loss: 0.1534 - val_accuracy: 0.9467\n",
            "Epoch 18/50\n",
            "29/29 [==============================] - 0s 2ms/step - loss: 0.0896 - accuracy: 0.9672 - val_loss: 0.1535 - val_accuracy: 0.9422\n",
            "Epoch 19/50\n",
            "29/29 [==============================] - 0s 2ms/step - loss: 0.0864 - accuracy: 0.9737 - val_loss: 0.1539 - val_accuracy: 0.9422\n",
            "Epoch 20/50\n",
            "29/29 [==============================] - 0s 2ms/step - loss: 0.0764 - accuracy: 0.9734 - val_loss: 0.1532 - val_accuracy: 0.9422\n",
            "Epoch 21/50\n",
            "29/29 [==============================] - 0s 2ms/step - loss: 0.0771 - accuracy: 0.9796 - val_loss: 0.1522 - val_accuracy: 0.9422\n",
            "Epoch 22/50\n",
            "29/29 [==============================] - 0s 2ms/step - loss: 0.0728 - accuracy: 0.9728 - val_loss: 0.1578 - val_accuracy: 0.9378\n",
            "Epoch 23/50\n",
            "29/29 [==============================] - 0s 2ms/step - loss: 0.0682 - accuracy: 0.9820 - val_loss: 0.1539 - val_accuracy: 0.9422\n",
            "Epoch 24/50\n",
            "29/29 [==============================] - 0s 2ms/step - loss: 0.0700 - accuracy: 0.9762 - val_loss: 0.1540 - val_accuracy: 0.9422\n",
            "Epoch 25/50\n",
            "29/29 [==============================] - 0s 2ms/step - loss: 0.0835 - accuracy: 0.9709 - val_loss: 0.1555 - val_accuracy: 0.9422\n",
            "Epoch 26/50\n",
            "29/29 [==============================] - 0s 2ms/step - loss: 0.0681 - accuracy: 0.9799 - val_loss: 0.1567 - val_accuracy: 0.9422\n",
            "Epoch 27/50\n",
            "29/29 [==============================] - 0s 2ms/step - loss: 0.0547 - accuracy: 0.9858 - val_loss: 0.1596 - val_accuracy: 0.9378\n",
            "Epoch 28/50\n",
            "29/29 [==============================] - 0s 2ms/step - loss: 0.0600 - accuracy: 0.9794 - val_loss: 0.1587 - val_accuracy: 0.9422\n",
            "Epoch 29/50\n",
            "29/29 [==============================] - 0s 2ms/step - loss: 0.0733 - accuracy: 0.9795 - val_loss: 0.1739 - val_accuracy: 0.9333\n",
            "Epoch 30/50\n",
            "29/29 [==============================] - 0s 2ms/step - loss: 0.0737 - accuracy: 0.9765 - val_loss: 0.1617 - val_accuracy: 0.9422\n",
            "Epoch 31/50\n",
            "29/29 [==============================] - 0s 2ms/step - loss: 0.0639 - accuracy: 0.9808 - val_loss: 0.1635 - val_accuracy: 0.9467\n",
            "Epoch 32/50\n",
            "29/29 [==============================] - 0s 2ms/step - loss: 0.0579 - accuracy: 0.9876 - val_loss: 0.1643 - val_accuracy: 0.9378\n",
            "Epoch 33/50\n",
            "29/29 [==============================] - 0s 2ms/step - loss: 0.0701 - accuracy: 0.9808 - val_loss: 0.1697 - val_accuracy: 0.9378\n",
            "Epoch 34/50\n",
            "29/29 [==============================] - 0s 3ms/step - loss: 0.0507 - accuracy: 0.9883 - val_loss: 0.1680 - val_accuracy: 0.9378\n",
            "Epoch 35/50\n",
            "29/29 [==============================] - 0s 2ms/step - loss: 0.0529 - accuracy: 0.9853 - val_loss: 0.1704 - val_accuracy: 0.9511\n",
            "Epoch 36/50\n",
            "29/29 [==============================] - 0s 2ms/step - loss: 0.0548 - accuracy: 0.9838 - val_loss: 0.1757 - val_accuracy: 0.9378\n"
          ],
          "name": "stdout"
        }
      ]
    },
    {
      "cell_type": "code",
      "metadata": {
        "colab": {
          "base_uri": "https://localhost:8080/",
          "height": 299
        },
        "id": "NDvpzegCIB_8",
        "outputId": "3456044c-57ba-44a8-ddac-84163e1d2b78"
      },
      "source": [
        "_, train_acc = model.evaluate(X_train, y_train, verbose=0)\n",
        "_, test_acc = model.evaluate(X_test, y_test, verbose=0)\n",
        "print('Train: %.3f, Test: %.3f' % (train_acc, test_acc))\n",
        "# plot training history\n",
        "pyplot.plot(history.history['accuracy'], label='train')\n",
        "pyplot.plot(history.history['val_accuracy'], label='validation')\n",
        "pyplot.legend()\n",
        "pyplot.title(\"Training Accuracy\")\n",
        "pyplot.show()"
      ],
      "execution_count": 87,
      "outputs": [
        {
          "output_type": "stream",
          "text": [
            "Train: 0.970, Test: 0.963\n"
          ],
          "name": "stdout"
        },
        {
          "output_type": "display_data",
          "data": {
            "image/png": "[encoded data removed]",
            "text/plain": [
              "<Figure size 432x288 with 1 Axes>"
            ]
          },
          "metadata": {
            "tags": [],
            "needs_background": "light"
          }
        }
      ]
    },
    {
      "cell_type": "code",
      "metadata": {
        "colab": {
          "base_uri": "https://localhost:8080/",
          "height": 281
        },
        "id": "tTbNBSLRmUhM",
        "outputId": "10a49ae8-361e-4382-bff2-09091784e5a8"
      },
      "source": [
        "# plot training loss\n",
        "pyplot.plot(history.history['loss'], label='train')\n",
        "pyplot.plot(history.history['val_loss'], label='test')\n",
        "pyplot.legend()\n",
        "pyplot.title(\"Training Loss\")\n",
        "pyplot.show()"
      ],
      "execution_count": 85,
      "outputs": [
        {
          "output_type": "display_data",
          "data": {
            "image/png": "[encoded data removed]",
            "text/plain": [
              "<Figure size 432x288 with 1 Axes>"
            ]
          },
          "metadata": {
            "tags": [],
            "needs_background": "light"
          }
        }
      ]
    },
    {
      "cell_type": "code",
      "metadata": {
        "colab": {
          "base_uri": "https://localhost:8080/"
        },
        "id": "g0ySrBtXKCQ5",
        "outputId": "2f9210e9-7793-445a-ace3-edd5c4f6f698"
      },
      "source": [
        "y_pred = model.predict (X_test).round()\n",
        "print(classification_report(y_test, y_pred))"
      ],
      "execution_count": 86,
      "outputs": [
        {
          "output_type": "stream",
          "text": [
            "              precision    recall  f1-score   support\n",
            "\n",
            "         0.0       0.95      0.99      0.97       240\n",
            "         1.0       0.98      0.91      0.95       135\n",
            "\n",
            "    accuracy                           0.96       375\n",
            "   macro avg       0.97      0.95      0.96       375\n",
            "weighted avg       0.96      0.96      0.96       375\n",
            "\n"
          ],
          "name": "stdout"
        }
      ]
    }
  ]
}